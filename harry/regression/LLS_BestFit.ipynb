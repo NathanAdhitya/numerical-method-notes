{
 "cells": [
  {
   "cell_type": "code",
   "execution_count": 2,
   "metadata": {},
   "outputs": [],
   "source": [
    "import numpy as np\n",
    "import pandas as pd\n",
    "import matplotlib.pyplot as plt"
   ]
  },
  {
   "cell_type": "code",
   "execution_count": 3,
   "metadata": {},
   "outputs": [],
   "source": [
    "def func(a0, a1, x):\n",
    "    return a0 + a1*x"
   ]
  },
  {
   "cell_type": "code",
   "execution_count": 4,
   "metadata": {},
   "outputs": [
    {
     "data": {
      "text/plain": [
       "array([2.47857143, 2.35928571, 1.86071429])"
      ]
     },
     "execution_count": 4,
     "metadata": {},
     "output_type": "execute_result"
    }
   ],
   "source": [
    "N = np.array([\n",
    "    [6, 15, 55],\n",
    "    [15, 55, 225],\n",
    "    [55, 225, 979]\n",
    "])\n",
    "r = np.array([152.6, 585.6, 2488.8])\n",
    "np.linalg.solve(N, r)\n",
    "\n",
    "N_inv = np.linalg.inv(N)\n",
    "x = np.dot(N_inv, r)\n",
    "x"
   ]
  },
  {
   "cell_type": "code",
   "execution_count": 5,
   "metadata": {},
   "outputs": [
    {
     "name": "stdout",
     "output_type": "stream",
     "text": [
      "s y: 508.2598990673964\n",
      "s y/x: 189.78854670479316\n",
      "r^2: 0.8804852467812262\n"
     ]
    },
    {
     "data": {
      "text/html": [
       "<style type=\"text/css\">\n",
       "</style>\n",
       "<table id=\"T_06c48\">\n",
       "  <thead>\n",
       "    <tr>\n",
       "      <th id=\"T_06c48_level0_col0\" class=\"col_heading level0 col0\" >i</th>\n",
       "      <th id=\"T_06c48_level0_col1\" class=\"col_heading level0 col1\" >xi</th>\n",
       "      <th id=\"T_06c48_level0_col2\" class=\"col_heading level0 col2\" >yi</th>\n",
       "      <th id=\"T_06c48_level0_col3\" class=\"col_heading level0 col3\" >ao + a1*xi</th>\n",
       "      <th id=\"T_06c48_level0_col4\" class=\"col_heading level0 col4\" >(y-y_bar)^2</th>\n",
       "      <th id=\"T_06c48_level0_col5\" class=\"col_heading level0 col5\" >(yi-a0-a1*xi)</th>\n",
       "    </tr>\n",
       "  </thead>\n",
       "  <tbody>\n",
       "    <tr>\n",
       "      <td id=\"T_06c48_row0_col0\" class=\"data row0 col0\" >1</td>\n",
       "      <td id=\"T_06c48_row0_col1\" class=\"data row0 col1\" >10</td>\n",
       "      <td id=\"T_06c48_row0_col2\" class=\"data row0 col2\" >25</td>\n",
       "      <td id=\"T_06c48_row0_col3\" class=\"data row0 col3\" >-39.583333</td>\n",
       "      <td id=\"T_06c48_row0_col4\" class=\"data row0 col4\" >380534.765625</td>\n",
       "      <td id=\"T_06c48_row0_col5\" class=\"data row0 col5\" >4171.006944</td>\n",
       "    </tr>\n",
       "    <tr>\n",
       "      <td id=\"T_06c48_row1_col0\" class=\"data row1 col0\" >2</td>\n",
       "      <td id=\"T_06c48_row1_col1\" class=\"data row1 col1\" >20</td>\n",
       "      <td id=\"T_06c48_row1_col2\" class=\"data row1 col2\" >70</td>\n",
       "      <td id=\"T_06c48_row1_col3\" class=\"data row1 col3\" >155.119048</td>\n",
       "      <td id=\"T_06c48_row1_col4\" class=\"data row1 col4\" >327041.015625</td>\n",
       "      <td id=\"T_06c48_row1_col5\" class=\"data row1 col5\" >7245.252268</td>\n",
       "    </tr>\n",
       "    <tr>\n",
       "      <td id=\"T_06c48_row2_col0\" class=\"data row2 col0\" >3</td>\n",
       "      <td id=\"T_06c48_row2_col1\" class=\"data row2 col1\" >30</td>\n",
       "      <td id=\"T_06c48_row2_col2\" class=\"data row2 col2\" >380</td>\n",
       "      <td id=\"T_06c48_row2_col3\" class=\"data row2 col3\" >349.821429</td>\n",
       "      <td id=\"T_06c48_row2_col4\" class=\"data row2 col4\" >68578.515625</td>\n",
       "      <td id=\"T_06c48_row2_col5\" class=\"data row2 col5\" >910.746173</td>\n",
       "    </tr>\n",
       "    <tr>\n",
       "      <td id=\"T_06c48_row3_col0\" class=\"data row3 col0\" >4</td>\n",
       "      <td id=\"T_06c48_row3_col1\" class=\"data row3 col1\" >40</td>\n",
       "      <td id=\"T_06c48_row3_col2\" class=\"data row3 col2\" >550</td>\n",
       "      <td id=\"T_06c48_row3_col3\" class=\"data row3 col3\" >544.523810</td>\n",
       "      <td id=\"T_06c48_row3_col4\" class=\"data row3 col4\" >8441.015625</td>\n",
       "      <td id=\"T_06c48_row3_col5\" class=\"data row3 col5\" >29.988662</td>\n",
       "    </tr>\n",
       "    <tr>\n",
       "      <td id=\"T_06c48_row4_col0\" class=\"data row4 col0\" >5</td>\n",
       "      <td id=\"T_06c48_row4_col1\" class=\"data row4 col1\" >50</td>\n",
       "      <td id=\"T_06c48_row4_col2\" class=\"data row4 col2\" >610</td>\n",
       "      <td id=\"T_06c48_row4_col3\" class=\"data row4 col3\" >739.226190</td>\n",
       "      <td id=\"T_06c48_row4_col4\" class=\"data row4 col4\" >1016.015625</td>\n",
       "      <td id=\"T_06c48_row4_col5\" class=\"data row4 col5\" >16699.408305</td>\n",
       "    </tr>\n",
       "    <tr>\n",
       "      <td id=\"T_06c48_row5_col0\" class=\"data row5 col0\" >6</td>\n",
       "      <td id=\"T_06c48_row5_col1\" class=\"data row5 col1\" >60</td>\n",
       "      <td id=\"T_06c48_row5_col2\" class=\"data row5 col2\" >1220</td>\n",
       "      <td id=\"T_06c48_row5_col3\" class=\"data row5 col3\" >933.928571</td>\n",
       "      <td id=\"T_06c48_row5_col4\" class=\"data row5 col4\" >334228.515625</td>\n",
       "      <td id=\"T_06c48_row5_col5\" class=\"data row5 col5\" >81836.862245</td>\n",
       "    </tr>\n",
       "    <tr>\n",
       "      <td id=\"T_06c48_row6_col0\" class=\"data row6 col0\" >7</td>\n",
       "      <td id=\"T_06c48_row6_col1\" class=\"data row6 col1\" >70</td>\n",
       "      <td id=\"T_06c48_row6_col2\" class=\"data row6 col2\" >830</td>\n",
       "      <td id=\"T_06c48_row6_col3\" class=\"data row6 col3\" >1128.630952</td>\n",
       "      <td id=\"T_06c48_row6_col4\" class=\"data row6 col4\" >35391.015625</td>\n",
       "      <td id=\"T_06c48_row6_col5\" class=\"data row6 col5\" >89180.445720</td>\n",
       "    </tr>\n",
       "    <tr>\n",
       "      <td id=\"T_06c48_row7_col0\" class=\"data row7 col0\" >8</td>\n",
       "      <td id=\"T_06c48_row7_col1\" class=\"data row7 col1\" >80</td>\n",
       "      <td id=\"T_06c48_row7_col2\" class=\"data row7 col2\" >1450</td>\n",
       "      <td id=\"T_06c48_row7_col3\" class=\"data row7 col3\" >1323.333333</td>\n",
       "      <td id=\"T_06c48_row7_col4\" class=\"data row7 col4\" >653066.015625</td>\n",
       "      <td id=\"T_06c48_row7_col5\" class=\"data row7 col5\" >16044.444444</td>\n",
       "    </tr>\n",
       "  </tbody>\n",
       "</table>\n"
      ],
      "text/plain": [
       "<pandas.io.formats.style.Styler at 0x189dfdfda10>"
      ]
     },
     "metadata": {},
     "output_type": "display_data"
    },
    {
     "data": {
      "image/png": "[encoded data removed]",
      "text/plain": [
       "<Figure size 640x480 with 1 Axes>"
      ]
     },
     "metadata": {},
     "output_type": "display_data"
    }
   ],
   "source": [
    "x = np.arange(10,80+1,10)\n",
    "y = np.array([25, 70, 380, 550, 610, 1220, 830, 1450])\n",
    "n = len(x)\n",
    "\n",
    "a1 = (n*(x*y).sum() - x.sum()*y.sum()) / (n*(x**2).sum()-x.sum()**2)\n",
    "a0 = np.average(y) - a1 * np.average(x)\n",
    "f = lambda x: func(a0, a1, x)\n",
    "yf = f(x)\n",
    "\n",
    "df = pd.DataFrame(\n",
    "    {\n",
    "        'i': np.arange(1, n+1),\n",
    "        'xi': x,\n",
    "        'yi': y,\n",
    "        'ao + a1*xi': a0+a1*x,\n",
    "        '(y-y_bar)^2': (y-np.average(y))**2,\n",
    "        '(yi-a0-a1*xi)': (y-a0-a1*x)**2\n",
    "    }\n",
    ")\n",
    "sy = np.sqrt(df[\"(y-y_bar)^2\"].sum()/(8-1))\n",
    "syx = np.sqrt(df['(yi-a0-a1*xi)'].sum()/(8-2))\n",
    "r2 = (df[\"(y-y_bar)^2\"].sum() - df['(yi-a0-a1*xi)'].sum()) / df[\"(y-y_bar)^2\"].sum()\n",
    "\n",
    "print(\"s y:\", sy)\n",
    "print(\"s y/x:\", syx)\n",
    "print(\"r^2:\", r2)\n",
    "display(df.style.hide(axis='index'))\n",
    "\n",
    "plt.plot(x, yf, color=\"#FF0000\")\n",
    "plt.plot(x, y, 'o', color=\"#00FF00\")\n",
    "plt.grid(True)\n",
    "plt.show()"
   ]
  }
 ],
 "metadata": {
  "kernelspec": {
   "display_name": "Python 3",
   "language": "python",
   "name": "python3"
  },
  "language_info": {
   "codemirror_mode": {
    "name": "ipython",
    "version": 3
   },
   "file_extension": ".py",
   "mimetype": "text/x-python",
   "name": "python",
   "nbconvert_exporter": "python",
   "pygments_lexer": "ipython3",
   "version": "3.11.3"
  }
 },
 "nbformat": 4,
 "nbformat_minor": 2
}
