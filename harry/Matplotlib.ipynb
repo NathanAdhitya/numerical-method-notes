{
  "cells": [
    {
      "cell_type": "code",
      "execution_count": null,
      "metadata": {
        "id": "b5_pBqTaaOrQ"
      },
      "outputs": [],
      "source": [
        "import matplotlib.pyplot as plt\n",
        "import numpy as np\n",
        "import pandas as pd"
      ]
    },
    {
      "cell_type": "markdown",
      "metadata": {},
      "source": [
        "np.linalg.solve()\n",
        "np.polyfit()\n",
        "np.polyval()\n",
        "np.log() (ln)\n",
        "np.exp()"
      ]
    },
    {
      "cell_type": "markdown",
      "metadata": {
        "id": "-ZWHYq1QbT1S"
      },
      "source": [
        "#Matplotlib Basic"
      ]
    },
    {
      "cell_type": "markdown",
      "metadata": {
        "id": "C3olGqGafHrq"
      },
      "source": [
        "##Figure"
      ]
    },
    {
      "cell_type": "code",
      "execution_count": null,
      "metadata": {
        "id": "Ak-br3_EbC_M"
      },
      "outputs": [],
      "source": [
        "# Membuat figure\n",
        "fig = plt.figure()\n",
        "# Menampilkan figure\n",
        "plt.show()"
      ]
    },
    {
      "cell_type": "code",
      "execution_count": null,
      "metadata": {
        "id": "2j6y0g9obx90"
      },
      "outputs": [],
      "source": [
        "fig = plt.figure()\n",
        "# Membuat plot dan menampilkannya\n",
        "plt.plot()"
      ]
    },
    {
      "cell_type": "code",
      "execution_count": null,
      "metadata": {
        "id": "CvWlC_ISb-9H"
      },
      "outputs": [],
      "source": [
        "# Membuat figure\n",
        "# x, y = width * dpi, height * dpi\n",
        "fig = plt.figure(\n",
        "    figsize=(6, 6), #width, height\n",
        "    dpi=100, #dots per inch\n",
        "    facecolor='green', #bg color\n",
        "    edgecolor='black', #border color\n",
        "    )\n",
        "\n",
        "plt.plot()"
      ]
    },
    {
      "cell_type": "code",
      "execution_count": null,
      "metadata": {
        "id": "1jTVeC7jcTPQ"
      },
      "outputs": [],
      "source": [
        "# Membuat 1 figure dengan 2x3 grid axes\n",
        "# 6 buah axes, 2 baris dan 3 kolom\n",
        "# Var fig untuk menampung objek figure\n",
        "# Var axes untuk menampung objek axes\n",
        "fig, axes = plt.subplots(nrows=2, ncols=3)\n",
        "# fig, axes = plt.subplots(2, 3, figsize=(18, 12), dpi=100, facecolor='green', edgecolor='black')"
      ]
    },
    {
      "cell_type": "code",
      "execution_count": null,
      "metadata": {
        "id": "xs2OU-_Hc-SV"
      },
      "outputs": [],
      "source": [
        "# Mengatur batas sumbu x dan y\n",
        "plt.axis([0, 10, 0, 15])\n",
        "# Memberikan label pada sumbu x dan y\n",
        "plt.xlabel('Sumbu X')\n",
        "plt.ylabel('Sumbu Y')\n",
        "\n",
        "# # Mengatur label pada sumbu X secara spesifik\n",
        "# plt.xticks([0, 4, 8], ['0', '4', '8'])\n",
        "# # Mengatur label pada sumbu Y secara spesifik\n",
        "# plt.yticks([0, 5, 10, 15], ['0', '5', '10', '15'])\n",
        "\n",
        "# Menampilkan plot\n",
        "plt.show()"
      ]
    },
    {
      "cell_type": "markdown",
      "metadata": {
        "id": "BWcz7c9De-rU"
      },
      "source": [
        "##Titik (Marker)"
      ]
    },
    {
      "cell_type": "code",
      "execution_count": null,
      "metadata": {
        "id": "0wIWW_nUfvvU"
      },
      "outputs": [],
      "source": [
        "# Membuat data dalam bentuk array\n",
        "x = np.array([1, 2, 3, 4, 5])\n",
        "y = np.array([2, 4, 6, 8, 10])\n",
        "\n",
        "# Membuat plot dengan marker\n",
        "plt.plot(\n",
        "    x, #data x\n",
        "    y, #data y\n",
        "    'o', #tipe marker\n",
        "\n",
        "    ms=10, #size\n",
        "    mec='red', #warna outline\n",
        "    mfc='yellow', #warna marker\n",
        "    )\n",
        "\n",
        "plt.plot(y, x, 'D', ms=10, mec='blue', mfc='red',)\n",
        "\n",
        "# Menampilkan plot\n",
        "plt.show()"
      ]
    },
    {
      "cell_type": "markdown",
      "metadata": {
        "id": "0xKFXg4rgnad"
      },
      "source": [
        "##Garis"
      ]
    },
    {
      "cell_type": "code",
      "execution_count": null,
      "metadata": {
        "id": "_AAO69BVhYtD"
      },
      "outputs": [],
      "source": [
        "# Membuat data dalam bentuk array\n",
        "x = np.array([1, 2, 3, 4, 5])\n",
        "y = np.array([2, 4, 6, 8, 10])\n",
        "\n",
        "# Membuat plot marker lingkaran, garis putus-putus, warna merah\n",
        "plt.plot(\n",
        "    x, #data x\n",
        "    y, #data y\n",
        "    'o:r', #[marker][line][color]\n",
        "\n",
        "    y, x, 'o:r'\n",
        "    )\n",
        "\n",
        "# Menampilkan plot\n",
        "plt.show()"
      ]
    },
    {
      "cell_type": "code",
      "execution_count": null,
      "metadata": {
        "id": "eqoj78Iyhy5E"
      },
      "outputs": [],
      "source": [
        "# Membuat data dalam bentuk array\n",
        "x = np.array([1, 2, 3, 4, 5])\n",
        "y = np.array([2, 4, 6, 8, 10])\n",
        "\n",
        "# Membuat plot dan mengatur tampilannya\n",
        "plt.plot(\n",
        "    x, #data x\n",
        "    y, #data y\n",
        "\n",
        "    lw=2, #line width\n",
        "    ls='--', #line style\n",
        "    c='magenta'#line color\n",
        "    )\n",
        "\n",
        "# Menampilkan plot\n",
        "plt.show()"
      ]
    },
    {
      "cell_type": "markdown",
      "metadata": {
        "id": "QwRC9E-PiBgy"
      },
      "source": [
        "##Legend, Title, Grid"
      ]
    },
    {
      "cell_type": "code",
      "execution_count": null,
      "metadata": {
        "id": "949H6zaKiHsg"
      },
      "outputs": [],
      "source": [
        "# Membuat data\n",
        "x = [1, 2, 3, 4]\n",
        "y = [2, 4, 6, 8]\n",
        "\n",
        "# Membuat plot\n",
        "plt.plot(x, y, label='Data Tahun 2023')\n",
        "\n",
        "# Menambahkan legend\n",
        "plt.legend()\n",
        "\n",
        "# Menambahkan judul pada plot\n",
        "plt.title('Grafik Nilai X dan Y')\n",
        "\n",
        "# Menambahkan grid\n",
        "plt.grid(axis='both', color='gray', linestyle='--')\n",
        "# plt.grid(axis='y', color='red', linestyle=':')\n",
        "\n",
        "# Menampilkan plot\n",
        "plt.show()"
      ]
    },
    {
      "cell_type": "markdown",
      "metadata": {
        "id": "1KB2JsDC9XKK"
      },
      "source": [
        "#Plot"
      ]
    },
    {
      "cell_type": "markdown",
      "metadata": {
        "id": "hB9aix4gijU9"
      },
      "source": [
        "##Line Plot"
      ]
    },
    {
      "cell_type": "code",
      "execution_count": null,
      "metadata": {
        "id": "KV1y6CmvHy5w"
      },
      "outputs": [],
      "source": [
        "# Data kunjungan ke toko selama 6 bulan terakhir\n",
        "bulan = [1, 2, 3, 4, 5, 6]\n",
        "kunjungan = [500, 600, 700, 800, 750, 900]\n",
        "\n",
        "# Membuat line plot\n",
        "plt.plot(bulan, kunjungan)\n",
        "\n",
        "# Memberikan judul pada plot dan label sumbu-sumbu\n",
        "plt.title('Jumlah Kunjungan ke Toko')\n",
        "plt.xlabel('Bulan')\n",
        "plt.ylabel('Jumlah Kunjungan')\n",
        "\n",
        "# Menampilkan plot\n",
        "plt.show()"
      ]
    },
    {
      "cell_type": "code",
      "execution_count": null,
      "metadata": {
        "id": "Qxh2M0w9H2HZ"
      },
      "outputs": [],
      "source": [
        "# Membuat data dalam bentuk array\n",
        "x = np.array([1, 2, 3, 4, 5, 6, 7])\n",
        "y1 = np.array([30, 31, 33, 35, 34, 32, 31])\n",
        "y2 = np.array([28, 29, 30, 32, 32, 30, 29])\n",
        "y3 = np.array([33, 35, 36, 37, 34, 33, 31])\n",
        "\n",
        "# Membuat plot dan mengatur tampilannya\n",
        "plt.plot(x, y1, label='Jakarta')\n",
        "plt.plot(x, y2, label='Bandung')\n",
        "plt.plot(x, y3, label='Surabaya')\n",
        "plt.xlabel('Hari')\n",
        "plt.ylabel('Suhu (C)')\n",
        "plt.title('Perbandingan Suhu Rata-rata Harian di Tiga Kota')\n",
        "plt.legend()\n",
        "\n",
        "# Menampilkan plot\n",
        "plt.show()"
      ]
    },
    {
      "cell_type": "code",
      "execution_count": null,
      "metadata": {
        "id": "RBGEGffjITBn"
      },
      "outputs": [],
      "source": [
        "# Membuat data dalam bentuk array\n",
        "x = np.linspace(0, 10, 100)\n",
        "y1 = np.sin(x)\n",
        "y2 = np.cos(x)\n",
        "\n",
        "# Membuat plot 1\n",
        "plt.subplot(2, 1, 1)\n",
        "plt.plot(x, y1)\n",
        "plt.title('Fungsi Sin(x)')\n",
        "\n",
        "# Membuat plot 2\n",
        "plt.subplot(2, 1, 2)\n",
        "plt.plot(x, y2)\n",
        "plt.title('Fungsi Cos(x)')\n",
        "\n",
        "# Memberi spasi antara subplot\n",
        "# plt.subplots_adjust(hspace=0.5)\n",
        "\n",
        "# Menampilkan plot\n",
        "# plt.suptitle('Grafik Fungsi Trigonometri')\n",
        "\n",
        "plt.show()"
      ]
    },
    {
      "cell_type": "markdown",
      "metadata": {
        "id": "MQjR0FM-iqwR"
      },
      "source": [
        "##Scatter Plot"
      ]
    },
    {
      "cell_type": "code",
      "execution_count": null,
      "metadata": {
        "colab": {
          "base_uri": "https://localhost:8080/",
          "height": 356
        },
        "id": "92vo0AKqIWPL",
        "outputId": "fad6f23a-54da-4c52-f7ea-02e67a7a5c00"
      },
      "outputs": [
        {
          "ename": "FileNotFoundError",
          "evalue": "[Errno 2] No such file or directory: '/content/mahasiswa.csv'",
          "output_type": "error",
          "traceback": [
            "\u001b[0;31m---------------------------------------------------------------------------\u001b[0m",
            "\u001b[0;31mFileNotFoundError\u001b[0m                         Traceback (most recent call last)",
            "\u001b[0;32m<ipython-input-18-b329bf354034>\u001b[0m in \u001b[0;36m<cell line: 2>\u001b[0;34m()\u001b[0m\n\u001b[1;32m      1\u001b[0m \u001b[0;31m# Memuat file contoh_scatter.txt dengan separator ;\u001b[0m\u001b[0;34m\u001b[0m\u001b[0;34m\u001b[0m\u001b[0m\n\u001b[0;32m----> 2\u001b[0;31m \u001b[0mdf\u001b[0m \u001b[0;34m=\u001b[0m \u001b[0mpd\u001b[0m\u001b[0;34m.\u001b[0m\u001b[0mread_csv\u001b[0m\u001b[0;34m(\u001b[0m\u001b[0;34m\"/content/mahasiswa.csv\"\u001b[0m\u001b[0;34m,\u001b[0m \u001b[0msep\u001b[0m\u001b[0;34m=\u001b[0m\u001b[0;34m\",\"\u001b[0m\u001b[0;34m)\u001b[0m\u001b[0;34m\u001b[0m\u001b[0;34m\u001b[0m\u001b[0m\n\u001b[0m\u001b[1;32m      3\u001b[0m \u001b[0;34m\u001b[0m\u001b[0m\n\u001b[1;32m      4\u001b[0m \u001b[0;31m# Membuat scatter plot dengan menggunakan data dari dataframe\u001b[0m\u001b[0;34m\u001b[0m\u001b[0;34m\u001b[0m\u001b[0m\n\u001b[1;32m      5\u001b[0m plt.scatter(\n",
            "\u001b[0;32m/usr/local/lib/python3.10/dist-packages/pandas/util/_decorators.py\u001b[0m in \u001b[0;36mwrapper\u001b[0;34m(*args, **kwargs)\u001b[0m\n\u001b[1;32m    209\u001b[0m                 \u001b[0;32melse\u001b[0m\u001b[0;34m:\u001b[0m\u001b[0;34m\u001b[0m\u001b[0;34m\u001b[0m\u001b[0m\n\u001b[1;32m    210\u001b[0m                     \u001b[0mkwargs\u001b[0m\u001b[0;34m[\u001b[0m\u001b[0mnew_arg_name\u001b[0m\u001b[0;34m]\u001b[0m \u001b[0;34m=\u001b[0m \u001b[0mnew_arg_value\u001b[0m\u001b[0;34m\u001b[0m\u001b[0;34m\u001b[0m\u001b[0m\n\u001b[0;32m--> 211\u001b[0;31m             \u001b[0;32mreturn\u001b[0m \u001b[0mfunc\u001b[0m\u001b[0;34m(\u001b[0m\u001b[0;34m*\u001b[0m\u001b[0margs\u001b[0m\u001b[0;34m,\u001b[0m \u001b[0;34m**\u001b[0m\u001b[0mkwargs\u001b[0m\u001b[0;34m)\u001b[0m\u001b[0;34m\u001b[0m\u001b[0;34m\u001b[0m\u001b[0m\n\u001b[0m\u001b[1;32m    212\u001b[0m \u001b[0;34m\u001b[0m\u001b[0m\n\u001b[1;32m    213\u001b[0m         \u001b[0;32mreturn\u001b[0m \u001b[0mcast\u001b[0m\u001b[0;34m(\u001b[0m\u001b[0mF\u001b[0m\u001b[0;34m,\u001b[0m \u001b[0mwrapper\u001b[0m\u001b[0;34m)\u001b[0m\u001b[0;34m\u001b[0m\u001b[0;34m\u001b[0m\u001b[0m\n",
            "\u001b[0;32m/usr/local/lib/python3.10/dist-packages/pandas/util/_decorators.py\u001b[0m in \u001b[0;36mwrapper\u001b[0;34m(*args, **kwargs)\u001b[0m\n\u001b[1;32m    329\u001b[0m                     \u001b[0mstacklevel\u001b[0m\u001b[0;34m=\u001b[0m\u001b[0mfind_stack_level\u001b[0m\u001b[0;34m(\u001b[0m\u001b[0;34m)\u001b[0m\u001b[0;34m,\u001b[0m\u001b[0;34m\u001b[0m\u001b[0;34m\u001b[0m\u001b[0m\n\u001b[1;32m    330\u001b[0m                 )\n\u001b[0;32m--> 331\u001b[0;31m             \u001b[0;32mreturn\u001b[0m \u001b[0mfunc\u001b[0m\u001b[0;34m(\u001b[0m\u001b[0;34m*\u001b[0m\u001b[0margs\u001b[0m\u001b[0;34m,\u001b[0m \u001b[0;34m**\u001b[0m\u001b[0mkwargs\u001b[0m\u001b[0;34m)\u001b[0m\u001b[0;34m\u001b[0m\u001b[0;34m\u001b[0m\u001b[0m\n\u001b[0m\u001b[1;32m    332\u001b[0m \u001b[0;34m\u001b[0m\u001b[0m\n\u001b[1;32m    333\u001b[0m         \u001b[0;31m# error: \"Callable[[VarArg(Any), KwArg(Any)], Any]\" has no\u001b[0m\u001b[0;34m\u001b[0m\u001b[0;34m\u001b[0m\u001b[0m\n",
            "\u001b[0;32m/usr/local/lib/python3.10/dist-packages/pandas/io/parsers/readers.py\u001b[0m in \u001b[0;36mread_csv\u001b[0;34m(filepath_or_buffer, sep, delimiter, header, names, index_col, usecols, squeeze, prefix, mangle_dupe_cols, dtype, engine, converters, true_values, false_values, skipinitialspace, skiprows, skipfooter, nrows, na_values, keep_default_na, na_filter, verbose, skip_blank_lines, parse_dates, infer_datetime_format, keep_date_col, date_parser, dayfirst, cache_dates, iterator, chunksize, compression, thousands, decimal, lineterminator, quotechar, quoting, doublequote, escapechar, comment, encoding, encoding_errors, dialect, error_bad_lines, warn_bad_lines, on_bad_lines, delim_whitespace, low_memory, memory_map, float_precision, storage_options)\u001b[0m\n\u001b[1;32m    948\u001b[0m     \u001b[0mkwds\u001b[0m\u001b[0;34m.\u001b[0m\u001b[0mupdate\u001b[0m\u001b[0;34m(\u001b[0m\u001b[0mkwds_defaults\u001b[0m\u001b[0;34m)\u001b[0m\u001b[0;34m\u001b[0m\u001b[0;34m\u001b[0m\u001b[0m\n\u001b[1;32m    949\u001b[0m \u001b[0;34m\u001b[0m\u001b[0m\n\u001b[0;32m--> 950\u001b[0;31m     \u001b[0;32mreturn\u001b[0m \u001b[0m_read\u001b[0m\u001b[0;34m(\u001b[0m\u001b[0mfilepath_or_buffer\u001b[0m\u001b[0;34m,\u001b[0m \u001b[0mkwds\u001b[0m\u001b[0;34m)\u001b[0m\u001b[0;34m\u001b[0m\u001b[0;34m\u001b[0m\u001b[0m\n\u001b[0m\u001b[1;32m    951\u001b[0m \u001b[0;34m\u001b[0m\u001b[0m\n\u001b[1;32m    952\u001b[0m \u001b[0;34m\u001b[0m\u001b[0m\n",
            "\u001b[0;32m/usr/local/lib/python3.10/dist-packages/pandas/io/parsers/readers.py\u001b[0m in \u001b[0;36m_read\u001b[0;34m(filepath_or_buffer, kwds)\u001b[0m\n\u001b[1;32m    603\u001b[0m \u001b[0;34m\u001b[0m\u001b[0m\n\u001b[1;32m    604\u001b[0m     \u001b[0;31m# Create the parser.\u001b[0m\u001b[0;34m\u001b[0m\u001b[0;34m\u001b[0m\u001b[0m\n\u001b[0;32m--> 605\u001b[0;31m     \u001b[0mparser\u001b[0m \u001b[0;34m=\u001b[0m \u001b[0mTextFileReader\u001b[0m\u001b[0;34m(\u001b[0m\u001b[0mfilepath_or_buffer\u001b[0m\u001b[0;34m,\u001b[0m \u001b[0;34m**\u001b[0m\u001b[0mkwds\u001b[0m\u001b[0;34m)\u001b[0m\u001b[0;34m\u001b[0m\u001b[0;34m\u001b[0m\u001b[0m\n\u001b[0m\u001b[1;32m    606\u001b[0m \u001b[0;34m\u001b[0m\u001b[0m\n\u001b[1;32m    607\u001b[0m     \u001b[0;32mif\u001b[0m \u001b[0mchunksize\u001b[0m \u001b[0;32mor\u001b[0m \u001b[0miterator\u001b[0m\u001b[0;34m:\u001b[0m\u001b[0;34m\u001b[0m\u001b[0;34m\u001b[0m\u001b[0m\n",
            "\u001b[0;32m/usr/local/lib/python3.10/dist-packages/pandas/io/parsers/readers.py\u001b[0m in \u001b[0;36m__init__\u001b[0;34m(self, f, engine, **kwds)\u001b[0m\n\u001b[1;32m   1440\u001b[0m \u001b[0;34m\u001b[0m\u001b[0m\n\u001b[1;32m   1441\u001b[0m         \u001b[0mself\u001b[0m\u001b[0;34m.\u001b[0m\u001b[0mhandles\u001b[0m\u001b[0;34m:\u001b[0m \u001b[0mIOHandles\u001b[0m \u001b[0;34m|\u001b[0m \u001b[0;32mNone\u001b[0m \u001b[0;34m=\u001b[0m \u001b[0;32mNone\u001b[0m\u001b[0;34m\u001b[0m\u001b[0;34m\u001b[0m\u001b[0m\n\u001b[0;32m-> 1442\u001b[0;31m         \u001b[0mself\u001b[0m\u001b[0;34m.\u001b[0m\u001b[0m_engine\u001b[0m \u001b[0;34m=\u001b[0m \u001b[0mself\u001b[0m\u001b[0;34m.\u001b[0m\u001b[0m_make_engine\u001b[0m\u001b[0;34m(\u001b[0m\u001b[0mf\u001b[0m\u001b[0;34m,\u001b[0m \u001b[0mself\u001b[0m\u001b[0;34m.\u001b[0m\u001b[0mengine\u001b[0m\u001b[0;34m)\u001b[0m\u001b[0;34m\u001b[0m\u001b[0;34m\u001b[0m\u001b[0m\n\u001b[0m\u001b[1;32m   1443\u001b[0m \u001b[0;34m\u001b[0m\u001b[0m\n\u001b[1;32m   1444\u001b[0m     \u001b[0;32mdef\u001b[0m \u001b[0mclose\u001b[0m\u001b[0;34m(\u001b[0m\u001b[0mself\u001b[0m\u001b[0;34m)\u001b[0m \u001b[0;34m->\u001b[0m \u001b[0;32mNone\u001b[0m\u001b[0;34m:\u001b[0m\u001b[0;34m\u001b[0m\u001b[0;34m\u001b[0m\u001b[0m\n",
            "\u001b[0;32m/usr/local/lib/python3.10/dist-packages/pandas/io/parsers/readers.py\u001b[0m in \u001b[0;36m_make_engine\u001b[0;34m(self, f, engine)\u001b[0m\n\u001b[1;32m   1733\u001b[0m                 \u001b[0;32mif\u001b[0m \u001b[0;34m\"b\"\u001b[0m \u001b[0;32mnot\u001b[0m \u001b[0;32min\u001b[0m \u001b[0mmode\u001b[0m\u001b[0;34m:\u001b[0m\u001b[0;34m\u001b[0m\u001b[0;34m\u001b[0m\u001b[0m\n\u001b[1;32m   1734\u001b[0m                     \u001b[0mmode\u001b[0m \u001b[0;34m+=\u001b[0m \u001b[0;34m\"b\"\u001b[0m\u001b[0;34m\u001b[0m\u001b[0;34m\u001b[0m\u001b[0m\n\u001b[0;32m-> 1735\u001b[0;31m             self.handles = get_handle(\n\u001b[0m\u001b[1;32m   1736\u001b[0m                 \u001b[0mf\u001b[0m\u001b[0;34m,\u001b[0m\u001b[0;34m\u001b[0m\u001b[0;34m\u001b[0m\u001b[0m\n\u001b[1;32m   1737\u001b[0m                 \u001b[0mmode\u001b[0m\u001b[0;34m,\u001b[0m\u001b[0;34m\u001b[0m\u001b[0;34m\u001b[0m\u001b[0m\n",
            "\u001b[0;32m/usr/local/lib/python3.10/dist-packages/pandas/io/common.py\u001b[0m in \u001b[0;36mget_handle\u001b[0;34m(path_or_buf, mode, encoding, compression, memory_map, is_text, errors, storage_options)\u001b[0m\n\u001b[1;32m    854\u001b[0m         \u001b[0;32mif\u001b[0m \u001b[0mioargs\u001b[0m\u001b[0;34m.\u001b[0m\u001b[0mencoding\u001b[0m \u001b[0;32mand\u001b[0m \u001b[0;34m\"b\"\u001b[0m \u001b[0;32mnot\u001b[0m \u001b[0;32min\u001b[0m \u001b[0mioargs\u001b[0m\u001b[0;34m.\u001b[0m\u001b[0mmode\u001b[0m\u001b[0;34m:\u001b[0m\u001b[0;34m\u001b[0m\u001b[0;34m\u001b[0m\u001b[0m\n\u001b[1;32m    855\u001b[0m             \u001b[0;31m# Encoding\u001b[0m\u001b[0;34m\u001b[0m\u001b[0;34m\u001b[0m\u001b[0m\n\u001b[0;32m--> 856\u001b[0;31m             handle = open(\n\u001b[0m\u001b[1;32m    857\u001b[0m                 \u001b[0mhandle\u001b[0m\u001b[0;34m,\u001b[0m\u001b[0;34m\u001b[0m\u001b[0;34m\u001b[0m\u001b[0m\n\u001b[1;32m    858\u001b[0m                 \u001b[0mioargs\u001b[0m\u001b[0;34m.\u001b[0m\u001b[0mmode\u001b[0m\u001b[0;34m,\u001b[0m\u001b[0;34m\u001b[0m\u001b[0;34m\u001b[0m\u001b[0m\n",
            "\u001b[0;31mFileNotFoundError\u001b[0m: [Errno 2] No such file or directory: '/content/mahasiswa.csv'"
          ]
        }
      ],
      "source": [
        "# Memuat file contoh_scatter.txt dengan separator ;\n",
        "df = pd.read_csv(\"/content/mahasiswa.csv\", sep=\",\")\n",
        "\n",
        "# Membuat scatter plot dengan menggunakan data dari dataframe\n",
        "plt.scatter(\n",
        "    df['IPK'], #data x\n",
        "    df['IPS'], #data y\n",
        "    # c='hotpink',\n",
        "    # s=100, #size\n",
        "    # alpha=0.005 #transparency\n",
        "    )\n",
        "plt.title('Hubungan antara IPK dan IPS')\n",
        "plt.xlabel('IPK')\n",
        "plt.ylabel('IPS')\n",
        "\n",
        "# Menampilkan plot\n",
        "plt.show()"
      ]
    },
    {
      "cell_type": "markdown",
      "metadata": {
        "id": "QglyzT0HivdG"
      },
      "source": [
        "##Bar Plot"
      ]
    },
    {
      "cell_type": "code",
      "execution_count": null,
      "metadata": {
        "id": "eAg9IY_9IqJB"
      },
      "outputs": [],
      "source": [
        "# Membuat data dalam bentuk array\n",
        "x = np.array(['A', 'B', 'C', 'D', 'E'])\n",
        "y = np.array([10, 24, 35, 27, 18])\n",
        "\n",
        "# Membuat plot dan mengatur tampilannya\n",
        "plt.bar(\n",
        "    x,\n",
        "    y,\n",
        "    color='#4CAF50',\n",
        "    width=0.4,\n",
        "    # align='edge',\n",
        "    # width=-0.4,\n",
        "    )\n",
        "\n",
        "# plt.barh(y, x, color='olive', height=0.5)\n",
        "plt.xlabel('Nilai')\n",
        "plt.ylabel('Jumlah Mahasiswa')\n",
        "plt.title('Jumlah Mahasiswa per Nilai')\n",
        "\n",
        "# Menampilkan plot\n",
        "plt.show()"
      ]
    },
    {
      "cell_type": "code",
      "execution_count": null,
      "metadata": {
        "id": "lM62fUf9I79d"
      },
      "outputs": [],
      "source": [
        "# Membuat data dalam bentuk array\n",
        "kelas_a = np.array([10, 24, 35, 27, 18])\n",
        "kelas_b = np.array([19, 11, 20, 55, 10])\n",
        "nilai = np.array(['A', 'B', 'C', 'D', 'E'])\n",
        "\n",
        "# Membuat plot dan mengatur tampilannya\n",
        "plt.bar(nilai, kelas_a, label='Kelas A', color='#44a5c2')\n",
        "plt.bar(nilai, kelas_b, label='Kelas B', bottom=kelas_a, color='#ffae49')\n",
        "\n",
        "# Membuat grid untuk sumbu y\n",
        "plt.grid(axis='y')\n",
        "\n",
        "# Memberi judul dan label\n",
        "plt.xlabel('Nilai')\n",
        "plt.ylabel('Jumlah Mahasiswa')\n",
        "plt.title('Jumlah Mahasiswa per Nilai')\n",
        "plt.legend()\n",
        "\n",
        "# # Menambahkan label pada masing-masing bar\n",
        "# for i in range(len(nilai)): # i adalah setiap elemen sumbu x\n",
        "#   plt.text(\n",
        "#       i, #posisi x textbox\n",
        "#       kelas_a[i]/2, #posisi y textbox\n",
        "#       kelas_a[i], #isi text\n",
        "#       ha='center', #alignment horizontal text di dalam textbox\n",
        "#       va='center', #alignment vertikal text di dalam textbox\n",
        "#       color='black',\n",
        "#       fontweight='bold'\n",
        "#       )\n",
        "# plt.text(i, kelas_a[i]+kelas_b[i]/2, kelas_b[i], ha='center', va='center', color='black', fontweight='bold')\n",
        "\n",
        "# # Menambahkan label untuk total nilai pada masing-masing bar\n",
        "# for i, v in enumerate(kelas_a+kelas_b):\n",
        "#   plt.text(i, v+1, str(v), ha='center',fontweight='bold')\n",
        "\n",
        "# Menampilkan plot\n",
        "plt.show()"
      ]
    },
    {
      "cell_type": "code",
      "execution_count": null,
      "metadata": {
        "id": "aybnatgKJMsE"
      },
      "outputs": [],
      "source": [
        "kelas_a = [10, 24, 35, 27, 18]\n",
        "kelas_b = [19, 11, 20, 55, 10]\n",
        "nilai = ['A', 'B', 'C', 'D', 'E']\n",
        "\n",
        "posisi_a = list(range(len(nilai)))\n",
        "posisi_b = [x + 0.2 for x in posisi_a]\n",
        "\n",
        "plt.bar(posisi_a, kelas_a, width=0.2, label='Kelas A')\n",
        "plt.bar(posisi_b, kelas_b, width=0.2, label='Kelas B')\n",
        "\n",
        "# Memberi judul dan label\n",
        "plt.xlabel('Nilai')\n",
        "plt.ylabel('Jumlah Mahasiswa')\n",
        "plt.title('Jumlah Mahasiswa per Nilai')\n",
        "plt.xticks([r + 0.1 for r in range(len(nilai))], nilai)\n",
        "\n",
        "# Menambahkan legenda\n",
        "plt.legend()\n",
        "\n",
        "# Menampilkan plot\n",
        "plt.show()"
      ]
    },
    {
      "cell_type": "markdown",
      "metadata": {
        "id": "JT38BY6Di31g"
      },
      "source": [
        "##Histogram"
      ]
    },
    {
      "cell_type": "code",
      "execution_count": null,
      "metadata": {
        "id": "GJvV8hVEJRXt"
      },
      "outputs": [],
      "source": [
        "# Data tinggi badan\n",
        "tinggi_badan = np.array([165, 172, 168, 174, 179, 180, 176, 182, 185, 188, 200, 190])\n",
        "\n",
        "# Membuat histogram\n",
        "plt.hist(\n",
        "    tinggi_badan, #data\n",
        "    bins=5, #jumlah bar\n",
        "    color='green',\n",
        "    edgecolor='black'\n",
        "    )\n",
        "\n",
        "# Memberi judul dan label\n",
        "plt.title('Distribusi Tinggi Badan')\n",
        "plt.xlabel('Tinggi Badan (cm)')\n",
        "plt.ylabel('Frekuensi')\n",
        "\n",
        "# plt.xticks(np.linspace(tinggi_badan.min(), tinggi_badan.max(), 6))\n",
        "\n",
        "# Menampilkan plot\n",
        "plt.show()"
      ]
    },
    {
      "cell_type": "markdown",
      "metadata": {
        "id": "GQbjZdNui_Xs"
      },
      "source": [
        "##Pie Chart"
      ]
    },
    {
      "cell_type": "code",
      "execution_count": null,
      "metadata": {
        "id": "KWDDoi5KJXxi"
      },
      "outputs": [],
      "source": [
        "# Data jumlah pengunjung\n",
        "jumlah_pengunjung = [1200, 800, 600]\n",
        "# Label situs web\n",
        "situs_web = ['Situs A', 'Situs B', 'Situs C']\n",
        "# Warna untuk setiap bagian pie chart\n",
        "warna = ['#ff9999','#66b3ff','#99ff99']\n",
        "# Menentukan besar exploded untuk setiap bagian pie chart\n",
        "exploded = [0.2, 0, 0]\n",
        "\n",
        "# Membuat pie chart\n",
        "plt.pie(\n",
        "    jumlah_pengunjung, #data\n",
        "    labels=situs_web,\n",
        "    # colors=warna,\n",
        "    # startangle=90,\n",
        "    # autopct='%.1f%%', #percent value\n",
        "    # autopct='.1f%',\n",
        "    # explode=True,\n",
        "    # shadow=True\n",
        "    )\n",
        "\n",
        "# Menambahkan judul\n",
        "plt.title('Jumlah Pengunjung Situs Web')\n",
        "\n",
        "# Menampilkan pie chart\n",
        "plt.show()"
      ]
    },
    {
      "cell_type": "markdown",
      "metadata": {
        "id": "IOnw_u-u642X"
      },
      "source": [
        "#Other"
      ]
    },
    {
      "cell_type": "code",
      "execution_count": null,
      "metadata": {
        "colab": {
          "base_uri": "https://localhost:8080/",
          "height": 669
        },
        "id": "bKio--Py7CPb",
        "outputId": "d574ce23-f80f-4213-887e-e9dfb7435ad1"
      },
      "outputs": [
        {
          "data": {
            "image/png": "[encoded data removed]",
            "text/plain": [
              "<Figure size 1000x700 with 6 Axes>"
            ]
          },
          "metadata": {},
          "output_type": "display_data"
        }
      ],
      "source": [
        "fig, axes = plt.subplots(nrows=2, ncols=3, figsize=(10, 7), dpi=100)\n",
        "\n",
        "axes[0][0].pie(jumlah_pengunjung, labels=situs_web)\n",
        "\n",
        "axes[0][1].bar(nilai, kelas_a, label='Kelas A', color='#44a5c2')\n",
        "axes[0][1].bar(nilai, kelas_b, label='Kelas B', bottom=kelas_a, color='#ffae49')\n",
        "\n",
        "x = np.array([1, 2, 3, 4, 5, 6, 7])\n",
        "y1 = np.array([30, 31, 33, 35, 34, 32, 31])\n",
        "y2 = np.array([28, 29, 30, 32, 32, 30, 29])\n",
        "y3 = np.array([33, 35, 36, 37, 34, 33, 31])\n",
        "axes[1][1].plot(x, y1, label='Jakarta')\n",
        "axes[1][1].plot(x, y2, label='Bandung')\n",
        "axes[1][0].plot(x, y3, label='Surabaya')\n",
        "\n",
        "fig.suptitle('Kumpulan Data')\n",
        "fig.show()"
      ]
    },
    {
      "cell_type": "markdown",
      "metadata": {
        "id": "R81MfGcMUxeX"
      },
      "source": [
        "**Marker:**\n",
        "- '.': titik (dot)\n",
        "- ',': pixel kecil (pixel)\n",
        "- 'o': lingkaran (circle)\n",
        "- 'v': segitiga menghadap bawah (triangle_down)\n",
        "- '^': segitiga menghadap atas (triangle_up)\n",
        "- '<': segitiga menghadap kiri (triangle_left)\n",
        "- '>': segitiga menghadap kanan (triangle_right)\n",
        "- 's': persegi (square)\n",
        "- 'p': pentagon (pentagon)\n",
        "- '*': bintang (star)\n",
        "- '+': tanda plus (plus)\n",
        "- 'P': tanda plus penuh (filled plus)\n",
        "- 'x': tanda silang (x)\n",
        "- 'X': tanda silang penuh (filled x)\n",
        "- 'D': diamond (diamond)\n",
        "- 'd': thin_diamond (thin_diamond)\n",
        "- 'H': hexagon (hexagon)\n",
        "- 'h': thin_hexagon (thin_hexagon)\n",
        "- '1': tri down\n",
        "- '2': tri up\n",
        "- '3': tri left\n",
        "- '4': tri right\n",
        "- '8': oktagon (octagon)\n",
        "- '|': garis vertikal (vline)\n",
        "- '_': garis horizontal (hline)\n",
        "\n",
        "**Line:**\n",
        "- '-' atau 'solid' untuk membuat garis solid\n",
        "- '--' atau 'dashed' untuk membuat garis putus-putus\n",
        "- ':' atau 'dotted' untuk membuat garis titik-titik\n",
        "- '-.' atau 'dashdot' untuk membuat garis titik garis.\n",
        "\n",
        "**Color:**\n",
        "- 'r' untuk warna merah\n",
        "- 'g' untuk warna hijau\n",
        "- 'b' untuk warna biru\n",
        "- 'c' untuk warna cyan\n",
        "- 'm' untuk warna magenta\n",
        "- 'y' untuk warna kuning\n",
        "- 'k' untuk warna hitam\n",
        "- 'w' untuk warna putih"
      ]
    }
  ],
  "metadata": {
    "colab": {
      "collapsed_sections": [
        "-ZWHYq1QbT1S",
        "C3olGqGafHrq",
        "BWcz7c9De-rU",
        "0xKFXg4rgnad",
        "QwRC9E-PiBgy",
        "1KB2JsDC9XKK",
        "hB9aix4gijU9",
        "MQjR0FM-iqwR",
        "QglyzT0HivdG",
        "JT38BY6Di31g",
        "GQbjZdNui_Xs",
        "IOnw_u-u642X"
      ],
      "provenance": []
    },
    "kernelspec": {
      "display_name": "Python 3",
      "name": "python3"
    },
    "language_info": {
      "name": "python"
    }
  },
  "nbformat": 4,
  "nbformat_minor": 0
}
