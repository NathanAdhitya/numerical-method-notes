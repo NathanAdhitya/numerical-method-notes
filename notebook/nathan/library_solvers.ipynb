{
 "cells": [
  {
   "cell_type": "code",
   "execution_count": 1,
   "metadata": {},
   "outputs": [],
   "source": [
    "import numpy as np\n",
    "import scipy as sp"
   ]
  },
  {
   "cell_type": "code",
   "execution_count": 2,
   "metadata": {},
   "outputs": [
    {
     "data": {
      "text/plain": [
       "array([-0.84745983,  0.68592502,  1.45725358])"
      ]
     },
     "execution_count": 2,
     "metadata": {},
     "output_type": "execute_result"
    }
   ],
   "source": [
    "# Solve linear systems\n",
    "# A = coefficient matrix\n",
    "# b = initial guesses\n",
    "\n",
    "A = np.array([[12, 6, 5], [3, 9.3, 1.21], [3.2, 4.313, 14.2415]])\n",
    "b = np.array([1.2323, 5.6, 21])\n",
    "np.linalg.solve(A, b)"
   ]
  },
  {
   "cell_type": "code",
   "execution_count": 3,
   "metadata": {},
   "outputs": [
    {
     "data": {
      "text/plain": [
       "array([2., 3.])"
      ]
     },
     "execution_count": 3,
     "metadata": {},
     "output_type": "execute_result"
    }
   ],
   "source": [
    "# Solve nonlinear systems\n",
    "\n",
    "# f should return the values given x\n",
    "def f(x: np.ndarray):\n",
    "    # f_x is an array of the functions (may contain polynomials)\n",
    "    return np.array(\n",
    "        [\n",
    "            x[0]**2 + x[0] * x[1] - 10,\n",
    "            x[1] + 3 * x[0] * x[1]**2 - 57\n",
    "        ]\n",
    "    )\n",
    "\n",
    "# sp.optimize.fsolve(function, x0, args=(), xtol=1e-5)\n",
    "sp.optimize.fsolve(f, np.array([0, 0]))"
   ]
  }
 ],
 "metadata": {
  "kernelspec": {
   "display_name": "Python 3",
   "language": "python",
   "name": "python3"
  },
  "language_info": {
   "codemirror_mode": {
    "name": "ipython",
    "version": 3
   },
   "file_extension": ".py",
   "mimetype": "text/x-python",
   "name": "python",
   "nbconvert_exporter": "python",
   "pygments_lexer": "ipython3",
   "version": "3.12.1"
  }
 },
 "nbformat": 4,
 "nbformat_minor": 2
}
