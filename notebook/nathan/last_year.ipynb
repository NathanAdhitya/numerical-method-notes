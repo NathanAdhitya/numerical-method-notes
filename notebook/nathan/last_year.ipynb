{
 "cells": [
  {
   "cell_type": "code",
   "execution_count": null,
   "metadata": {},
   "outputs": [
    {
     "ename": "",
     "evalue": "",
     "output_type": "error",
     "traceback": [
      "\u001b[1;31mRunning cells with 'Python 3.12.3' requires the ipykernel package.\n",
      "\u001b[1;31mRun the following command to install 'ipykernel' into the Python environment. \n",
      "\u001b[1;31mCommand: 'c:/Users/asus/AppData/Local/Programs/Python/Python312/python.exe -m pip install ipykernel -U --user --force-reinstall'"
     ]
    }
   ],
   "source": [
    "import numpy as np\n",
    "import scipy as sp\n",
    "import nicsin_solvers as sl\n",
    "import nathan_solvers as nl"
   ]
  },
  {
   "cell_type": "markdown",
   "metadata": {},
   "source": [
    "Selesaikan 3 persamaan di bawah ini:  \n",
    "$-3x_1 + x_2 - 6x_3 = -2$  \n",
    "$2x_1 - 3x_2 + 5x_3 = 4$  \n",
    "$2x_1 + 4x_2 + 4x_3 = -8$  \n",
    "Dengan:  \n",
    "a. Gauss Elimination (irrelevant)  \n",
    "b. LU Factorization (irrelevant)  \n",
    "c. Cholesky Factorization (irrelevant)  \n",
    "d. Gauss-Seidel (3 iterasi)  \n",
    "e. Jacobi (3 iterasi)  "
   ]
  },
  {
   "cell_type": "code",
   "execution_count": null,
   "metadata": {},
   "outputs": [
    {
     "ename": "",
     "evalue": "",
     "output_type": "error",
     "traceback": [
      "\u001b[1;31mRunning cells with 'Python 3.12.3' requires the ipykernel package.\n",
      "\u001b[1;31mRun the following command to install 'ipykernel' into the Python environment. \n",
      "\u001b[1;31mCommand: 'c:/Users/asus/AppData/Local/Programs/Python/Python312/python.exe -m pip install ipykernel -U --user --force-reinstall'"
     ]
    }
   ],
   "source": [
    "A = np.array([[-3, 1, -6], [2, -3, 5], [2, 4, 4]])\n",
    "b = np.array([-2, 4, -8])"
   ]
  },
  {
   "cell_type": "code",
   "execution_count": null,
   "metadata": {},
   "outputs": [
    {
     "ename": "",
     "evalue": "",
     "output_type": "error",
     "traceback": [
      "\u001b[1;31mRunning cells with 'Python 3.12.3' requires the ipykernel package.\n",
      "\u001b[1;31mRun the following command to install 'ipykernel' into the Python environment. \n",
      "\u001b[1;31mCommand: 'c:/Users/asus/AppData/Local/Programs/Python/Python312/python.exe -m pip install ipykernel -U --user --force-reinstall'"
     ]
    }
   ],
   "source": [
    "# Library solution\n",
    "np.linalg.solve(A, b)"
   ]
  },
  {
   "cell_type": "code",
   "execution_count": null,
   "metadata": {},
   "outputs": [
    {
     "ename": "",
     "evalue": "",
     "output_type": "error",
     "traceback": [
      "\u001b[1;31mRunning cells with 'Python 3.12.3' requires the ipykernel package.\n",
      "\u001b[1;31mRun the following command to install 'ipykernel' into the Python environment. \n",
      "\u001b[1;31mCommand: 'c:/Users/asus/AppData/Local/Programs/Python/Python312/python.exe -m pip install ipykernel -U --user --force-reinstall'"
     ]
    }
   ],
   "source": [
    "# Gauss-Seidel method for solving linear equations\n",
    "sl.gauss_seidel_fixed(A, b, max_iterations=3)"
   ]
  },
  {
   "cell_type": "code",
   "execution_count": null,
   "metadata": {},
   "outputs": [
    {
     "ename": "",
     "evalue": "",
     "output_type": "error",
     "traceback": [
      "\u001b[1;31mRunning cells with 'Python 3.12.3' requires the ipykernel package.\n",
      "\u001b[1;31mRun the following command to install 'ipykernel' into the Python environment. \n",
      "\u001b[1;31mCommand: 'c:/Users/asus/AppData/Local/Programs/Python/Python312/python.exe -m pip install ipykernel -U --user --force-reinstall'"
     ]
    }
   ],
   "source": [
    "# Jacobi method for solving linear equations\n",
    "sl.jacobi_fixed(A, b, max_iterations=3)"
   ]
  },
  {
   "cell_type": "markdown",
   "metadata": {},
   "source": [
    "Selesaikan persamaan non-linier berikut dengan menggunakan Newton-Raphson dengan   \n",
    "initial value $x_1 = -2 \\text{ dan } x_2 = 0$  \n",
    "$x_2 = -3x_1^2 - 5x_1 + 2$  \n",
    "$5x_1 x_2 - 3 = x_1^2$\n",
    "\n",
    "Turn equations into an easier-to-solve form:  \n",
    "$f_1 = x_2 + 3x_1^2 + 5x_1 - 2$  \n",
    "$f_2 = 5x_1 x_2 - 3 - x_1^2$  \n",
    "\n",
    "And their derivatives:  \n",
    "$\\frac{\\delta f_1}{\\delta x_1} = 6x_1 + 5$  \n",
    "\n",
    "$\\frac{\\delta f_1}{\\delta x_2} = 1$  \n",
    "\n",
    "$\\frac{\\delta f_2}{\\delta x_1} = 5x_2 - 2x_1$  \n",
    "\n",
    "$\\frac{\\delta f_2}{\\delta x_2} = 5x_1$  "
   ]
  },
  {
   "cell_type": "code",
   "execution_count": null,
   "metadata": {},
   "outputs": [
    {
     "ename": "",
     "evalue": "",
     "output_type": "error",
     "traceback": [
      "\u001b[1;31mRunning cells with 'Python 3.12.3' requires the ipykernel package.\n",
      "\u001b[1;31mRun the following command to install 'ipykernel' into the Python environment. \n",
      "\u001b[1;31mCommand: 'c:/Users/asus/AppData/Local/Programs/Python/Python312/python.exe -m pip install ipykernel -U --user --force-reinstall'"
     ]
    }
   ],
   "source": [
    "def f(x):\n",
    "  f_x = np.array([\n",
    "    x[1] + 3 * x[0]**2 + 5 * x[0] - 2,\n",
    "    5 * x[0] * x[1] - 3 - x[0]**2\n",
    "  ])\n",
    "\n",
    "  jf_x = np.array([\n",
    "    [6 * x[0] + 5, 1],\n",
    "    [5 * x[1] - 2 * x[0], 5 * x[0]]\n",
    "  ])\n",
    "\n",
    "  return f_x, jf_x"
   ]
  },
  {
   "cell_type": "code",
   "execution_count": null,
   "metadata": {},
   "outputs": [
    {
     "ename": "",
     "evalue": "",
     "output_type": "error",
     "traceback": [
      "\u001b[1;31mRunning cells with 'Python 3.12.3' requires the ipykernel package.\n",
      "\u001b[1;31mRun the following command to install 'ipykernel' into the Python environment. \n",
      "\u001b[1;31mCommand: 'c:/Users/asus/AppData/Local/Programs/Python/Python312/python.exe -m pip install ipykernel -U --user --force-reinstall'"
     ]
    }
   ],
   "source": [
    "# Library solution\n",
    "sp.optimize.fsolve(lambda x: f(x)[0], np.array([0, 0]))"
   ]
  },
  {
   "cell_type": "code",
   "execution_count": null,
   "metadata": {},
   "outputs": [
    {
     "ename": "",
     "evalue": "",
     "output_type": "error",
     "traceback": [
      "\u001b[1;31mRunning cells with 'Python 3.12.3' requires the ipykernel package.\n",
      "\u001b[1;31mRun the following command to install 'ipykernel' into the Python environment. \n",
      "\u001b[1;31mCommand: 'c:/Users/asus/AppData/Local/Programs/Python/Python312/python.exe -m pip install ipykernel -U --user --force-reinstall'"
     ]
    }
   ],
   "source": [
    "# Newton-Raphson method to solve nonlinear equations\n",
    "nl.newton_raphson(f, np.array([-2, 0]), max_iter=3)"
   ]
  },
  {
   "cell_type": "markdown",
   "metadata": {},
   "source": [
    "Tabel berisi rata-rata penggunaan media sosial dari 12 siswa terhadap nilai ujian.\n",
    "\n",
    "Cari dan hitunglah (buatlah tabel perhitungannya):  \n",
    "a. Persamaan garis regresi linier yang \"best fit\" terhadap data tersebut diatas (Linear Least squares Fit). Sketsalah grafiknya.   \n",
    "b. sy (total standard deviation),  \n",
    "c. sy/x (standard error of the estimate)    \n",
    "d. r2 (coefficient of determination)   \n",
    "e. r (correlation coefficient)  "
   ]
  },
  {
   "cell_type": "code",
   "execution_count": null,
   "metadata": {},
   "outputs": [
    {
     "ename": "",
     "evalue": "",
     "output_type": "error",
     "traceback": [
      "\u001b[1;31mRunning cells with 'Python 3.12.3' requires the ipykernel package.\n",
      "\u001b[1;31mRun the following command to install 'ipykernel' into the Python environment. \n",
      "\u001b[1;31mCommand: 'c:/Users/asus/AppData/Local/Programs/Python/Python312/python.exe -m pip install ipykernel -U --user --force-reinstall'"
     ]
    }
   ],
   "source": [
    "waktu = np.array([4.3, 6.4, 4.5, 1.7, 4.5, 5.6, 1.2, 2.3, 6.1, 3.1, 4.8, 3.5])\n",
    "nilai = np.array([85, 54, 77, 90, 64, 65, 90, 83, 68, 73, 68, 83])"
   ]
  },
  {
   "cell_type": "code",
   "execution_count": null,
   "metadata": {},
   "outputs": [
    {
     "ename": "",
     "evalue": "",
     "output_type": "error",
     "traceback": [
      "\u001b[1;31mRunning cells with 'Python 3.12.3' requires the ipykernel package.\n",
      "\u001b[1;31mRun the following command to install 'ipykernel' into the Python environment. \n",
      "\u001b[1;31mCommand: 'c:/Users/asus/AppData/Local/Programs/Python/Python312/python.exe -m pip install ipykernel -U --user --force-reinstall'"
     ]
    }
   ],
   "source": [
    "sl.linear_regression(waktu, nilai)"
   ]
  }
 ],
 "metadata": {
  "kernelspec": {
   "display_name": "Python 3",
   "language": "python",
   "name": "python3"
  },
  "language_info": {
   "codemirror_mode": {
    "name": "ipython",
    "version": 3
   },
   "file_extension": ".py",
   "mimetype": "text/x-python",
   "name": "python",
   "nbconvert_exporter": "python",
   "pygments_lexer": "ipython3",
   "version": "3.12.3"
  }
 },
 "nbformat": 4,
 "nbformat_minor": 2
}
