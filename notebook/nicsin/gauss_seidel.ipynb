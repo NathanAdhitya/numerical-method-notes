{
 "cells": [
  {
   "cell_type": "code",
   "execution_count": 1,
   "metadata": {},
   "outputs": [],
   "source": [
    "import numpy as np"
   ]
  },
  {
   "cell_type": "code",
   "execution_count": 2,
   "metadata": {},
   "outputs": [],
   "source": [
    "def gauss_seidel_fixed(A, b, tolerance=1e-10, max_iterations=3):\n",
    "    # Initialize variables\n",
    "    x1, x2, x3 = 0, 0, 0  # Initial guesses\n",
    "    n = len(b)\n",
    "\n",
    "    print(\"Initial guess: x1 = 0, x2 = 0, x3 = 0\")\n",
    "\n",
    "    for iteration in range(max_iterations):\n",
    "        print(\"======================================================\")\n",
    "        x1_old, x2_old, x3_old = x1, x2, x3  # Save old values\n",
    "\n",
    "        # Calculate x1\n",
    "        x1 = (b[0] - A[0][1] * x2_old - A[0][2] * x3_old) / A[0][0]\n",
    "        print(f\"Iteration {iteration + 1}:\")\n",
    "        print(f\"x1 = (b[0] - A[0][1] * x2_old - A[0][2] * x3_old) / A[0][0]\")\n",
    "        print(\n",
    "            f\"x1 = ({b[0]} - {A[0][1]} * {x2_old} - {A[0][2]} * {x3_old}) / {A[0][0]}\"\n",
    "        )\n",
    "        print(f\"x1 = {x1}\\n\")\n",
    "\n",
    "        # Calculate x2\n",
    "        x2 = (b[1] - A[1][0] * x1 - A[1][2] * x3_old) / A[1][1]\n",
    "        print(f\"x2 = (b[1] - A[1][0] * x1 - A[1][2] * x3_old) / A[1][1]\")\n",
    "        print(f\"x2 = ({b[1]} - {A[1][0]} * {x1} - {A[1][2]} * {x3_old}) / {A[1][1]}\")\n",
    "        print(f\"x2 = {x2}\\n\")\n",
    "\n",
    "        # Calculate x3\n",
    "        x3 = (b[2] - A[2][0] * x1 - A[2][1] * x2) / A[2][2]\n",
    "        print(f\"x3 = (b[2] - A[2][0] * x1 - A[2][1] * x2) / A[2][2]\")\n",
    "        print(f\"x3 = ({b[2]} - {A[2][0]} * {x1} - {A[2][1]} * {x2}) / {A[2][2]}\")\n",
    "        print(f\"x3 = {x3}\\n\")\n",
    "\n",
    "        # Check for convergence\n",
    "        if np.allclose([x1, x2, x3], [x1_old, x2_old, x3_old], atol=tolerance):\n",
    "            print(f\"Converged after {iteration + 1} iterations\\n\")\n",
    "            return np.array([x1, x2, x3])\n",
    "\n",
    "    print(\"Maximum iterations reached without convergence\")\n",
    "    return np.array([x1, x2, x3])"
   ]
  },
  {
   "cell_type": "code",
   "execution_count": 3,
   "metadata": {},
   "outputs": [
    {
     "name": "stdout",
     "output_type": "stream",
     "text": [
      "Initial guess: x1 = 0, x2 = 0, x3 = 0\n",
      "======================================================\n",
      "Iteration 1:\n",
      "x1 = (b[0] - A[0][1] * x2_old - A[0][2] * x3_old) / A[0][0]\n",
      "x1 = (-2.0 - 1.0 * 0 - -6.0 * 0) / -3.0\n",
      "x1 = 0.6666666666666666\n",
      "\n",
      "x2 = (b[1] - A[1][0] * x1 - A[1][2] * x3_old) / A[1][1]\n",
      "x2 = (4.0 - 2.0 * 0.6666666666666666 - 5.0 * 0) / -3.0\n",
      "x2 = -0.888888888888889\n",
      "\n",
      "x3 = (b[2] - A[2][0] * x1 - A[2][1] * x2) / A[2][2]\n",
      "x3 = (-8.0 - 2.0 * 0.6666666666666666 - 4.0 * -0.888888888888889) / 4.0\n",
      "x3 = -1.4444444444444446\n",
      "\n",
      "======================================================\n",
      "Iteration 2:\n",
      "x1 = (b[0] - A[0][1] * x2_old - A[0][2] * x3_old) / A[0][0]\n",
      "x1 = (-2.0 - 1.0 * -0.888888888888889 - -6.0 * -1.4444444444444446) / -3.0\n",
      "x1 = 3.2592592592592595\n",
      "\n",
      "x2 = (b[1] - A[1][0] * x1 - A[1][2] * x3_old) / A[1][1]\n",
      "x2 = (4.0 - 2.0 * 3.2592592592592595 - 5.0 * -1.4444444444444446) / -3.0\n",
      "x2 = -1.5679012345679013\n",
      "\n",
      "x3 = (b[2] - A[2][0] * x1 - A[2][1] * x2) / A[2][2]\n",
      "x3 = (-8.0 - 2.0 * 3.2592592592592595 - 4.0 * -1.5679012345679013) / 4.0\n",
      "x3 = -2.0617283950617287\n",
      "\n",
      "======================================================\n",
      "Iteration 3:\n",
      "x1 = (b[0] - A[0][1] * x2_old - A[0][2] * x3_old) / A[0][0]\n",
      "x1 = (-2.0 - 1.0 * -1.5679012345679013 - -6.0 * -2.0617283950617287) / -3.0\n",
      "x1 = 4.267489711934156\n",
      "\n",
      "x2 = (b[1] - A[1][0] * x1 - A[1][2] * x3_old) / A[1][1]\n",
      "x2 = (4.0 - 2.0 * 4.267489711934156 - 5.0 * -2.0617283950617287) / -3.0\n",
      "x2 = -1.9245541838134432\n",
      "\n",
      "x3 = (b[2] - A[2][0] * x1 - A[2][1] * x2) / A[2][2]\n",
      "x3 = (-8.0 - 2.0 * 4.267489711934156 - 4.0 * -1.9245541838134432) / 4.0\n",
      "x3 = -2.2091906721536354\n",
      "\n",
      "Maximum iterations reached without convergence\n",
      "Solution: [ 4.26748971 -1.92455418 -2.20919067]\n"
     ]
    }
   ],
   "source": [
    "# Example usage\n",
    "A = np.array([[-3, 1, -6], [2, -3, 5], [2, 4, 4]], dtype=float)\n",
    "b = np.array([-2, 4, -8], dtype=float)\n",
    "\n",
    "solution = gauss_seidel_fixed(A, b)\n",
    "print(\"Solution:\", solution)"
   ]
  }
 ],
 "metadata": {
  "kernelspec": {
   "display_name": "Python 3",
   "language": "python",
   "name": "python3"
  },
  "language_info": {
   "codemirror_mode": {
    "name": "ipython",
    "version": 3
   },
   "file_extension": ".py",
   "mimetype": "text/x-python",
   "name": "python",
   "nbconvert_exporter": "python",
   "pygments_lexer": "ipython3",
   "version": "3.12.1"
  }
 },
 "nbformat": 4,
 "nbformat_minor": 2
}
