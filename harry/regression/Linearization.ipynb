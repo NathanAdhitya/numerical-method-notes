{
 "cells": [
  {
   "cell_type": "code",
   "execution_count": 24,
   "metadata": {},
   "outputs": [],
   "source": [
    "import numpy as np\n",
    "import pandas as pd\n",
    "import matplotlib.pyplot as plt"
   ]
  },
  {
   "cell_type": "code",
   "execution_count": 25,
   "metadata": {},
   "outputs": [],
   "source": [
    "def func(a0, a1, x):\n",
    "    return 10**(a0 + a1*np.log10(x))"
   ]
  },
  {
   "cell_type": "code",
   "execution_count": 38,
   "metadata": {},
   "outputs": [
    {
     "data": {
      "text/html": [
       "<style type=\"text/css\">\n",
       "</style>\n",
       "<table id=\"T_577fe\">\n",
       "  <thead>\n",
       "    <tr>\n",
       "      <th id=\"T_577fe_level0_col0\" class=\"col_heading level0 col0\" >i</th>\n",
       "      <th id=\"T_577fe_level0_col1\" class=\"col_heading level0 col1\" >xi</th>\n",
       "      <th id=\"T_577fe_level0_col2\" class=\"col_heading level0 col2\" >yi</th>\n",
       "      <th id=\"T_577fe_level0_col3\" class=\"col_heading level0 col3\" >log xi</th>\n",
       "      <th id=\"T_577fe_level0_col4\" class=\"col_heading level0 col4\" >log yi</th>\n",
       "      <th id=\"T_577fe_level0_col5\" class=\"col_heading level0 col5\" >(log xi)^2</th>\n",
       "      <th id=\"T_577fe_level0_col6\" class=\"col_heading level0 col6\" >log xi log yi</th>\n",
       "    </tr>\n",
       "  </thead>\n",
       "  <tbody>\n",
       "    <tr>\n",
       "      <td id=\"T_577fe_row0_col0\" class=\"data row0 col0\" >1</td>\n",
       "      <td id=\"T_577fe_row0_col1\" class=\"data row0 col1\" >10</td>\n",
       "      <td id=\"T_577fe_row0_col2\" class=\"data row0 col2\" >25</td>\n",
       "      <td id=\"T_577fe_row0_col3\" class=\"data row0 col3\" >1.000000</td>\n",
       "      <td id=\"T_577fe_row0_col4\" class=\"data row0 col4\" >1.397940</td>\n",
       "      <td id=\"T_577fe_row0_col5\" class=\"data row0 col5\" >1.000000</td>\n",
       "      <td id=\"T_577fe_row0_col6\" class=\"data row0 col6\" >1.397940</td>\n",
       "    </tr>\n",
       "    <tr>\n",
       "      <td id=\"T_577fe_row1_col0\" class=\"data row1 col0\" >2</td>\n",
       "      <td id=\"T_577fe_row1_col1\" class=\"data row1 col1\" >20</td>\n",
       "      <td id=\"T_577fe_row1_col2\" class=\"data row1 col2\" >70</td>\n",
       "      <td id=\"T_577fe_row1_col3\" class=\"data row1 col3\" >1.301030</td>\n",
       "      <td id=\"T_577fe_row1_col4\" class=\"data row1 col4\" >1.845098</td>\n",
       "      <td id=\"T_577fe_row1_col5\" class=\"data row1 col5\" >1.692679</td>\n",
       "      <td id=\"T_577fe_row1_col6\" class=\"data row1 col6\" >2.400528</td>\n",
       "    </tr>\n",
       "    <tr>\n",
       "      <td id=\"T_577fe_row2_col0\" class=\"data row2 col0\" >3</td>\n",
       "      <td id=\"T_577fe_row2_col1\" class=\"data row2 col1\" >30</td>\n",
       "      <td id=\"T_577fe_row2_col2\" class=\"data row2 col2\" >380</td>\n",
       "      <td id=\"T_577fe_row2_col3\" class=\"data row2 col3\" >1.477121</td>\n",
       "      <td id=\"T_577fe_row2_col4\" class=\"data row2 col4\" >2.579784</td>\n",
       "      <td id=\"T_577fe_row2_col5\" class=\"data row2 col5\" >2.181887</td>\n",
       "      <td id=\"T_577fe_row2_col6\" class=\"data row2 col6\" >3.810653</td>\n",
       "    </tr>\n",
       "    <tr>\n",
       "      <td id=\"T_577fe_row3_col0\" class=\"data row3 col0\" >4</td>\n",
       "      <td id=\"T_577fe_row3_col1\" class=\"data row3 col1\" >40</td>\n",
       "      <td id=\"T_577fe_row3_col2\" class=\"data row3 col2\" >550</td>\n",
       "      <td id=\"T_577fe_row3_col3\" class=\"data row3 col3\" >1.602060</td>\n",
       "      <td id=\"T_577fe_row3_col4\" class=\"data row3 col4\" >2.740363</td>\n",
       "      <td id=\"T_577fe_row3_col5\" class=\"data row3 col5\" >2.566596</td>\n",
       "      <td id=\"T_577fe_row3_col6\" class=\"data row3 col6\" >4.390225</td>\n",
       "    </tr>\n",
       "    <tr>\n",
       "      <td id=\"T_577fe_row4_col0\" class=\"data row4 col0\" >5</td>\n",
       "      <td id=\"T_577fe_row4_col1\" class=\"data row4 col1\" >50</td>\n",
       "      <td id=\"T_577fe_row4_col2\" class=\"data row4 col2\" >610</td>\n",
       "      <td id=\"T_577fe_row4_col3\" class=\"data row4 col3\" >1.698970</td>\n",
       "      <td id=\"T_577fe_row4_col4\" class=\"data row4 col4\" >2.785330</td>\n",
       "      <td id=\"T_577fe_row4_col5\" class=\"data row4 col5\" >2.886499</td>\n",
       "      <td id=\"T_577fe_row4_col6\" class=\"data row4 col6\" >4.732192</td>\n",
       "    </tr>\n",
       "    <tr>\n",
       "      <td id=\"T_577fe_row5_col0\" class=\"data row5 col0\" >6</td>\n",
       "      <td id=\"T_577fe_row5_col1\" class=\"data row5 col1\" >60</td>\n",
       "      <td id=\"T_577fe_row5_col2\" class=\"data row5 col2\" >1220</td>\n",
       "      <td id=\"T_577fe_row5_col3\" class=\"data row5 col3\" >1.778151</td>\n",
       "      <td id=\"T_577fe_row5_col4\" class=\"data row5 col4\" >3.086360</td>\n",
       "      <td id=\"T_577fe_row5_col5\" class=\"data row5 col5\" >3.161822</td>\n",
       "      <td id=\"T_577fe_row5_col6\" class=\"data row5 col6\" >5.488015</td>\n",
       "    </tr>\n",
       "    <tr>\n",
       "      <td id=\"T_577fe_row6_col0\" class=\"data row6 col0\" >7</td>\n",
       "      <td id=\"T_577fe_row6_col1\" class=\"data row6 col1\" >70</td>\n",
       "      <td id=\"T_577fe_row6_col2\" class=\"data row6 col2\" >830</td>\n",
       "      <td id=\"T_577fe_row6_col3\" class=\"data row6 col3\" >1.845098</td>\n",
       "      <td id=\"T_577fe_row6_col4\" class=\"data row6 col4\" >2.919078</td>\n",
       "      <td id=\"T_577fe_row6_col5\" class=\"data row6 col5\" >3.404387</td>\n",
       "      <td id=\"T_577fe_row6_col6\" class=\"data row6 col6\" >5.385985</td>\n",
       "    </tr>\n",
       "    <tr>\n",
       "      <td id=\"T_577fe_row7_col0\" class=\"data row7 col0\" >8</td>\n",
       "      <td id=\"T_577fe_row7_col1\" class=\"data row7 col1\" >80</td>\n",
       "      <td id=\"T_577fe_row7_col2\" class=\"data row7 col2\" >1450</td>\n",
       "      <td id=\"T_577fe_row7_col3\" class=\"data row7 col3\" >1.903090</td>\n",
       "      <td id=\"T_577fe_row7_col4\" class=\"data row7 col4\" >3.161368</td>\n",
       "      <td id=\"T_577fe_row7_col5\" class=\"data row7 col5\" >3.621751</td>\n",
       "      <td id=\"T_577fe_row7_col6\" class=\"data row7 col6\" >6.016368</td>\n",
       "    </tr>\n",
       "  </tbody>\n",
       "</table>\n"
      ],
      "text/plain": [
       "<pandas.io.formats.style.Styler at 0x18a0931d010>"
      ]
     },
     "metadata": {},
     "output_type": "display_data"
    },
    {
     "name": "stderr",
     "output_type": "stream",
     "text": [
      "C:\\Users\\ASUS\\AppData\\Local\\Temp\\ipykernel_9100\\16534068.py:2: RuntimeWarning: divide by zero encountered in log10\n",
      "  return 10**(a0 + a1*np.log10(x))\n"
     ]
    },
    {
     "data": {
      "image/png": "[encoded data removed]",
      "text/plain": [
       "<Figure size 640x480 with 1 Axes>"
      ]
     },
     "metadata": {},
     "output_type": "display_data"
    }
   ],
   "source": [
    "x = np.arange(10,80+1,10)\n",
    "y = np.array([25, 70, 380, 550, 610, 1220, 830, 1450])\n",
    "n = len(x)\n",
    "\n",
    "x_log = np.log10(x)\n",
    "y_log = np.log10(y)\n",
    "\n",
    "df = pd.DataFrame(\n",
    "    {\n",
    "        'i': np.arange(1, n+1),\n",
    "        'xi': x,\n",
    "        'yi': y,\n",
    "        'log xi': x_log,\n",
    "        'log yi': y_log,\n",
    "        '(log xi)^2': x_log**2,\n",
    "        'log xi log yi': x_log*y_log,\n",
    "    }\n",
    ")\n",
    "\n",
    "a1 = (n*(x_log*y_log).sum() - x_log.sum()*y_log.sum()) / (n*(x_log**2).sum()-x_log.sum()**2)\n",
    "a0 = np.average(y_log) - a1 * np.average(x_log)\n",
    "f = lambda x: func(a0, a1, x)\n",
    "yf = f(x)\n",
    "\n",
    "display(df.style.hide(axis='index'))\n",
    "\n",
    "draw_x = np.arange(0,100,2)\n",
    "draw_y = f(draw_x)\n",
    "plt.plot(draw_x, draw_y, color=\"#FF0000\")\n",
    "plt.plot(x, y, 'o', color=\"#00FF00\")\n",
    "plt.grid(True)\n",
    "plt.show()"
   ]
  }
 ],
 "metadata": {
  "kernelspec": {
   "display_name": "Python 3",
   "language": "python",
   "name": "python3"
  },
  "language_info": {
   "codemirror_mode": {
    "name": "ipython",
    "version": 3
   },
   "file_extension": ".py",
   "mimetype": "text/x-python",
   "name": "python",
   "nbconvert_exporter": "python",
   "pygments_lexer": "ipython3",
   "version": "3.11.3"
  }
 },
 "nbformat": 4,
 "nbformat_minor": 2
}
