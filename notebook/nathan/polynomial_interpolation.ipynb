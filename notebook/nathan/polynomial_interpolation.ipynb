{
 "cells": [
  {
   "cell_type": "code",
   "execution_count": 19,
   "metadata": {},
   "outputs": [],
   "source": [
    "import numpy as np\n",
    "import matplotlib.pyplot as plt\n",
    "np.set_printoptions(suppress=True)"
   ]
  },
  {
   "cell_type": "code",
   "execution_count": 22,
   "metadata": {},
   "outputs": [
    {
     "name": "stdout",
     "output_type": "stream",
     "text": [
      "Coefficients: \n",
      "[[ 90000    300      1]\n",
      " [160000    400      1]\n",
      " [250000    500      1]]\n",
      "Solution: \n",
      "[[ 0.00000115]\n",
      " [-0.001715  ]\n",
      " [ 1.027     ]]\n"
     ]
    },
    {
     "data": {
      "image/png": "[encoded data removed]",
      "text/plain": [
       "<Figure size 640x480 with 1 Axes>"
      ]
     },
     "metadata": {},
     "output_type": "display_data"
    }
   ],
   "source": [
    "# Example 17.1\n",
    "x = np.array([300, 400, 500])\n",
    "f = np.array([0.616, 0.525, 0.457])[:, None]\n",
    "n = len(x)\n",
    "\n",
    "# Each pair can be substituted into eq 17.2 to yield a system of n equations\n",
    "coefficients = np.repeat(x[:, None], n, axis=1)\n",
    "\n",
    "# right to left, power by 0 to n-1\n",
    "for i in range(n):\n",
    "    coefficients[:, i] = np.power(x, n - i - 1)\n",
    "\n",
    "print(f\"Coefficients: \\n{coefficients}\")\n",
    "\n",
    "# Solve the system of equations\n",
    "solution = np.linalg.solve(coefficients, f)\n",
    "\n",
    "# Print the solution\n",
    "print(f\"Solution: \\n{solution}\")\n",
    "\n",
    "# Plot the solution\n",
    "plt.plot(x, solution)\n",
    "plt.show()"
   ]
  },
  {
   "cell_type": "code",
   "execution_count": 23,
   "metadata": {},
   "outputs": [],
   "source": [
    "def newint(x, y, xx):\n",
    "    \"\"\"\n",
    "        Newton Interpolation\n",
    "        interpolating based on (x, y)\n",
    "        xx: x values to be interpolated\n",
    "        output: y values of interpolated function\n",
    "    \"\"\"\n",
    "\n",
    "    n = len(x)\n",
    "    assert len(y) == n, \"x and y must be the same length\"\n",
    "    b = np.zeros((n, n))\n",
    "\n",
    "    # assign dependent variables to the first column of b.\n",
    "    b[:, 0] = y\n",
    "\n",
    "    for j in range(1, n):\n",
    "        for i in range(n - j):\n",
    "            b[i, j] = (b[i + 1, j - 1] - b[i, j - 1]) / (x[i + j] - x[i])\n",
    "\n",
    "    # use the finite divided differences to interpolate\n",
    "    xt = np.ones(len(xx))\n",
    "    yint = b[0, 0] * np.ones(len(xx))\n",
    "\n",
    "    for j in range(n - 1):\n",
    "        xt = xt * (xx - x[j])\n",
    "        yint = yint + b[0, j + 1] * xt\n",
    "\n",
    "    return yint"
   ]
  }
 ],
 "metadata": {
  "kernelspec": {
   "display_name": "Python 3",
   "language": "python",
   "name": "python3"
  },
  "language_info": {
   "codemirror_mode": {
    "name": "ipython",
    "version": 3
   },
   "file_extension": ".py",
   "mimetype": "text/x-python",
   "name": "python",
   "nbconvert_exporter": "python",
   "pygments_lexer": "ipython3",
   "version": "3.12.1"
  }
 },
 "nbformat": 4,
 "nbformat_minor": 2
}
