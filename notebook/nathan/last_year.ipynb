{
 "cells": [
  {
   "cell_type": "code",
   "execution_count": 1,
   "metadata": {},
   "outputs": [],
   "source": [
    "import numpy as np\n",
    "import scipy as sp\n",
    "import nicsin_solvers as sl\n",
    "import nathan_solvers as nl"
   ]
  },
  {
   "cell_type": "markdown",
   "metadata": {},
   "source": [
    "Selesaikan 3 persamaan di bawah ini:  \n",
    "$-3x_1 + x_2 - 6x_3 = -2$  \n",
    "$2x_1 - 3x_2 + 5x_3 = 4$  \n",
    "$2x_1 + 4x_2 + 4x_3 = -8$  \n",
    "Dengan:  \n",
    "a. Gauss Elimination (irrelevant)  \n",
    "b. LU Factorization (irrelevant)  \n",
    "c. Cholesky Factorization (irrelevant)  \n",
    "d. Gauss-Seidel (3 iterasi)  \n",
    "e. Jacobi (3 iterasi)  "
   ]
  },
  {
   "cell_type": "code",
   "execution_count": 2,
   "metadata": {},
   "outputs": [],
   "source": [
    "A = np.array([[-3, 1, -6], [2, -3, 5], [2, 4, 4]])\n",
    "b = np.array([-2, 4, -8])"
   ]
  },
  {
   "cell_type": "code",
   "execution_count": 3,
   "metadata": {},
   "outputs": [
    {
     "data": {
      "text/plain": [
       "array([ 4., -2., -2.])"
      ]
     },
     "execution_count": 3,
     "metadata": {},
     "output_type": "execute_result"
    }
   ],
   "source": [
    "# Library solution\n",
    "np.linalg.solve(A, b)"
   ]
  },
  {
   "cell_type": "code",
   "execution_count": 4,
   "metadata": {},
   "outputs": [
    {
     "name": "stdout",
     "output_type": "stream",
     "text": [
      "Initial guess: x1 = 0, x2 = 0, x3 = 0\n",
      "======================================================\n",
      "Iteration 1:\n",
      "x1 = (b[0] - A[0][1] * x2_old - A[0][2] * x3_old) / A[0][0]\n",
      "x1 = (-2 - 1 * 0 - -6 * 0) / -3\n",
      "x1 = 0.6666666666666666\n",
      "\n",
      "x2 = (b[1] - A[1][0] * x1 - A[1][2] * x3_old) / A[1][1]\n",
      "x2 = (4 - 2 * 0.6666666666666666 - 5 * 0) / -3\n",
      "x2 = -0.888888888888889\n",
      "\n",
      "x3 = (b[2] - A[2][0] * x1 - A[2][1] * x2) / A[2][2]\n",
      "x3 = (-8 - 2 * 0.6666666666666666 - 4 * -0.888888888888889) / 4\n",
      "x3 = -1.4444444444444446\n",
      "\n",
      "======================================================\n",
      "Iteration 2:\n",
      "x1 = (b[0] - A[0][1] * x2_old - A[0][2] * x3_old) / A[0][0]\n",
      "x1 = (-2 - 1 * -0.888888888888889 - -6 * -1.4444444444444446) / -3\n",
      "x1 = 3.2592592592592595\n",
      "\n",
      "x2 = (b[1] - A[1][0] * x1 - A[1][2] * x3_old) / A[1][1]\n",
      "x2 = (4 - 2 * 3.2592592592592595 - 5 * -1.4444444444444446) / -3\n",
      "x2 = -1.5679012345679013\n",
      "\n",
      "x3 = (b[2] - A[2][0] * x1 - A[2][1] * x2) / A[2][2]\n",
      "x3 = (-8 - 2 * 3.2592592592592595 - 4 * -1.5679012345679013) / 4\n",
      "x3 = -2.0617283950617287\n",
      "\n",
      "======================================================\n",
      "Iteration 3:\n",
      "x1 = (b[0] - A[0][1] * x2_old - A[0][2] * x3_old) / A[0][0]\n",
      "x1 = (-2 - 1 * -1.5679012345679013 - -6 * -2.0617283950617287) / -3\n",
      "x1 = 4.267489711934156\n",
      "\n",
      "x2 = (b[1] - A[1][0] * x1 - A[1][2] * x3_old) / A[1][1]\n",
      "x2 = (4 - 2 * 4.267489711934156 - 5 * -2.0617283950617287) / -3\n",
      "x2 = -1.9245541838134432\n",
      "\n",
      "x3 = (b[2] - A[2][0] * x1 - A[2][1] * x2) / A[2][2]\n",
      "x3 = (-8 - 2 * 4.267489711934156 - 4 * -1.9245541838134432) / 4\n",
      "x3 = -2.2091906721536354\n",
      "\n",
      "Maximum iterations reached without convergence\n"
     ]
    },
    {
     "data": {
      "text/plain": [
       "array([ 4.26748971, -1.92455418, -2.20919067])"
      ]
     },
     "execution_count": 4,
     "metadata": {},
     "output_type": "execute_result"
    }
   ],
   "source": [
    "# Gauss-Seidel method for solving linear equations\n",
    "sl.gauss_seidel_fixed(A, b, max_iterations=3)"
   ]
  },
  {
   "cell_type": "code",
   "execution_count": 5,
   "metadata": {},
   "outputs": [
    {
     "name": "stdout",
     "output_type": "stream",
     "text": [
      "Initial guess: x1 = 0, x2 = 0, x3 = 0\n",
      "======================================================\n",
      "Iteration 1:\n",
      "x1 = (b[0] - A[0][1] * x2_old - A[0][2] * x3_old) / A[0][0]\n",
      "x1 = (-2 - 1 * 0 - -6 * 0) / -3\n",
      "x1 = 0.6666666666666666\n",
      "\n",
      "x2 = (b[1] - A[1][0] * x1_old - A[1][2] * x3_old) / A[1][1]\n",
      "x2 = (4 - 2 * 0 - 5 * 0) / -3\n",
      "x2 = -1.3333333333333333\n",
      "\n",
      "x3 = (b[2] - A[2][0] * x1_old - A[2][1] * x2_old) / A[2][2]\n",
      "x3 = (-8 - 2 * 0 - 4 * 0) / 4\n",
      "x3 = -2.0\n",
      "\n",
      "======================================================\n",
      "Iteration 2:\n",
      "x1 = (b[0] - A[0][1] * x2_old - A[0][2] * x3_old) / A[0][0]\n",
      "x1 = (-2 - 1 * -1.3333333333333333 - -6 * -2.0) / -3\n",
      "x1 = 4.222222222222222\n",
      "\n",
      "x2 = (b[1] - A[1][0] * x1_old - A[1][2] * x3_old) / A[1][1]\n",
      "x2 = (4 - 2 * 0.6666666666666666 - 5 * -2.0) / -3\n",
      "x2 = -4.222222222222222\n",
      "\n",
      "x3 = (b[2] - A[2][0] * x1_old - A[2][1] * x2_old) / A[2][2]\n",
      "x3 = (-8 - 2 * 0.6666666666666666 - 4 * -1.3333333333333333) / 4\n",
      "x3 = -1.0000000000000002\n",
      "\n",
      "======================================================\n",
      "Iteration 3:\n",
      "x1 = (b[0] - A[0][1] * x2_old - A[0][2] * x3_old) / A[0][0]\n",
      "x1 = (-2 - 1 * -4.222222222222222 - -6 * -1.0000000000000002) / -3\n",
      "x1 = 1.2592592592592597\n",
      "\n",
      "x2 = (b[1] - A[1][0] * x1_old - A[1][2] * x3_old) / A[1][1]\n",
      "x2 = (4 - 2 * 4.222222222222222 - 5 * -1.0000000000000002) / -3\n",
      "x2 = -0.18518518518518542\n",
      "\n",
      "x3 = (b[2] - A[2][0] * x1_old - A[2][1] * x2_old) / A[2][2]\n",
      "x3 = (-8 - 2 * 4.222222222222222 - 4 * -4.222222222222222) / 4\n",
      "x3 = 0.1111111111111116\n",
      "\n",
      "Maximum iterations reached without convergence\n"
     ]
    },
    {
     "data": {
      "text/plain": [
       "array([ 1.25925926, -0.18518519,  0.11111111])"
      ]
     },
     "execution_count": 5,
     "metadata": {},
     "output_type": "execute_result"
    }
   ],
   "source": [
    "# Jacobi method for solving linear equations\n",
    "sl.jacobi_fixed(A, b, max_iterations=3)"
   ]
  },
  {
   "cell_type": "markdown",
   "metadata": {},
   "source": [
    "Selesaikan persamaan non-linier berikut dengan menggunakan Newton-Raphson dengan   \n",
    "initial value $x_1 = -2 \\text{ dan } x_2 = 0$  \n",
    "$x_2 = -3x_1^2 - 5x_1 + 2$  \n",
    "$5x_1 x_2 - 3 = x_1^2$\n",
    "\n",
    "Turn equations into an easier-to-solve form:  \n",
    "$f_1 = x_2 + 3x_1^2 + 5x_1 - 2$  \n",
    "$f_2 = 5x_1 x_2 - 3 - x_1^2$  \n",
    "\n",
    "And their derivatives:  \n",
    "$\\frac{\\delta f_1}{\\delta x_1} = 6x_1 + 5$  \n",
    "\n",
    "$\\frac{\\delta f_1}{\\delta x_2} = 1$  \n",
    "\n",
    "$\\frac{\\delta f_2}{\\delta x_1} = 5x_2 - 2x_1$  \n",
    "\n",
    "$\\frac{\\delta f_2}{\\delta x_2} = 5x_1$  "
   ]
  },
  {
   "cell_type": "code",
   "execution_count": 6,
   "metadata": {},
   "outputs": [],
   "source": [
    "def f(x):\n",
    "  f_x = np.array([\n",
    "    x[1] + 3 * x[0]**2 + 5 * x[0] - 2,\n",
    "    5 * x[0] * x[1] - 3 - x[0]**2\n",
    "  ])\n",
    "\n",
    "  jf_x = np.array([\n",
    "    [6 * x[0] + 5, 1],\n",
    "    [5 * x[1] - 2 * x[0], 5 * x[0]]\n",
    "  ])\n",
    "\n",
    "  return f_x, jf_x"
   ]
  },
  {
   "cell_type": "code",
   "execution_count": 7,
   "metadata": {},
   "outputs": [
    {
     "name": "stderr",
     "output_type": "stream",
     "text": [
      "C:\\Users\\Nathan Adhitya\\AppData\\Local\\Temp\\ipykernel_9936\\2438609155.py:2: RuntimeWarning: The iteration is not making good progress, as measured by the \n",
      "  improvement from the last ten iterations.\n",
      "  sp.optimize.fsolve(lambda x: f(x)[0], np.array([0, 0]))\n"
     ]
    },
    {
     "data": {
      "text/plain": [
       "array([0.24912636, 1.71824085])"
      ]
     },
     "execution_count": 7,
     "metadata": {},
     "output_type": "execute_result"
    }
   ],
   "source": [
    "# Library solution\n",
    "sp.optimize.fsolve(lambda x: f(x)[0], np.array([0, 0]))"
   ]
  },
  {
   "cell_type": "code",
   "execution_count": 8,
   "metadata": {},
   "outputs": [
    {
     "name": "stdout",
     "output_type": "stream",
     "text": [
      "Iteration 1:\n",
      "df1/x1 = -7\n",
      "df1/x2 = 1\n",
      "df2/x1 = 4\n",
      "df2/x2 = -10\n",
      "J = 65.99999999999997\n",
      "x = [-2.10606061 -0.74242424], ea = 100.0\n",
      "\n",
      "Iteration 2:\n",
      "df1/x1 = -7.636363636363637\n",
      "df1/x2 = 1.0\n",
      "df2/x1 = 0.5\n",
      "df2/x2 = -10.53030303030303\n",
      "J = 79.9132231404959\n",
      "x = [-2.09682781 -0.70566582], ea = 5.209041699534852\n",
      "\n",
      "Iteration 3:\n",
      "df1/x1 = -7.5809668639442656\n",
      "df1/x2 = 1.0\n",
      "df2/x1 = 0.6653265422203827\n",
      "df2/x2 = -10.484139053286887\n",
      "J = 78.8145842177315\n",
      "x = [-2.09677334 -0.70550863], ea = 0.02227912692244674\n",
      "\n",
      "Took 3 iterations to converge\n"
     ]
    },
    {
     "data": {
      "text/plain": [
       "array([-2.09677334, -0.70550863])"
      ]
     },
     "execution_count": 8,
     "metadata": {},
     "output_type": "execute_result"
    }
   ],
   "source": [
    "# Newton-Raphson method to solve nonlinear equations\n",
    "nl.newton_raphson(f, np.array([-2, 0]), max_iter=3)"
   ]
  },
  {
   "cell_type": "markdown",
   "metadata": {},
   "source": [
    "Tabel berisi rata-rata penggunaan media sosial dari 12 siswa terhadap nilai ujian.\n",
    "\n",
    "Cari dan hitunglah (buatlah tabel perhitungannya):  \n",
    "a. Persamaan garis regresi linier yang \"best fit\" terhadap data tersebut diatas (Linear Least squares Fit). Sketsalah grafiknya.   \n",
    "b. sy (total standard deviation),  \n",
    "c. sy/x (standard error of the estimate)    \n",
    "d. r2 (coefficient of determination)   \n",
    "e. r (correlation coefficient)  "
   ]
  },
  {
   "cell_type": "code",
   "execution_count": 9,
   "metadata": {},
   "outputs": [],
   "source": [
    "waktu = np.array([4.3, 6.4, 4.5, 1.7, 4.5, 5.6, 1.2, 2.3, 6.1, 3.1, 4.8, 3.5])\n",
    "nilai = np.array([85, 54, 77, 90, 64, 65, 90, 83, 68, 73, 68, 83])"
   ]
  },
  {
   "cell_type": "code",
   "execution_count": 10,
   "metadata": {},
   "outputs": [
    {
     "name": "stdout",
     "output_type": "stream",
     "text": [
      "Table 1:\n",
      "           xi     yi        xi^2        xi.yi\n",
      "0         4.3   85.0   18.490000   365.500000\n",
      "1         6.4   54.0   40.960000   345.600000\n",
      "2         4.5   77.0   20.250000   346.500000\n",
      "3         1.7   90.0    2.890000   153.000000\n",
      "4         4.5   64.0   20.250000   288.000000\n",
      "5         5.6   65.0   31.360000   364.000000\n",
      "6         1.2   90.0    1.440000   108.000000\n",
      "7         2.3   83.0    5.290000   190.900000\n",
      "8         6.1   68.0   37.210000   414.800000\n",
      "9         3.1   73.0    9.610000   226.300000\n",
      "10        4.8   68.0   23.040000   326.400000\n",
      "11        3.5   83.0   12.250000   290.500000\n",
      "Sum      48.0  900.0  223.040000  3419.500000\n",
      "Average   4.0   75.0   18.586667   284.958333 \n",
      "\n",
      "Table 2:\n",
      "     xi  yi  yl (predicted)\n",
      "0   4.3  85       73.255477\n",
      "1   6.4  54       61.043814\n",
      "2   4.5  77       72.092461\n",
      "3   1.7  90       88.374678\n",
      "4   4.5  64       72.092461\n",
      "5   5.6  65       65.695876\n",
      "6   1.2  90       91.282216\n",
      "7   2.3  83       84.885631\n",
      "8   6.1  68       62.788338\n",
      "9   3.1  73       80.233570\n",
      "10  4.8  68       70.347938\n",
      "11  3.5  83       77.907539 \n",
      "\n",
      "Table 3:\n",
      "           xi     yi    a0+a1*xi  (yi-y_ave)^2  (yi-a0-a1*xi)^2\n",
      "0         4.3   85.0   73.255477         100.0       137.933825\n",
      "1         6.4   54.0   61.043814         441.0        49.615322\n",
      "2         4.5   77.0   72.092461           4.0        24.083936\n",
      "3         1.7   90.0   88.374678         225.0         2.641672\n",
      "4         4.5   64.0   72.092461         121.0        65.487931\n",
      "5         5.6   65.0   65.695876         100.0         0.484244\n",
      "6         1.2   90.0   91.282216         225.0         1.644079\n",
      "7         2.3   83.0   84.885631          64.0         3.555606\n",
      "8         6.1   68.0   62.788338          49.0        27.161425\n",
      "9         3.1   73.0   80.233570           4.0        52.324529\n",
      "10        4.8   68.0   70.347938          49.0         5.512814\n",
      "11        3.5   83.0   77.907539          64.0        25.933163\n",
      "Sum      48.0  900.0  900.000000        1446.0       396.378544\n",
      "Average   4.0   75.0   75.000000         120.5        33.031545 \n",
      "\n",
      "\n",
      "Summary Statistics:\n",
      "sy (total standard deviation): 11.4654\n",
      "sy/x (standard error of the estimate): 6.2959\n",
      "r^2 (coefficient of determination): 0.7259\n",
      "r (correlation coefficient): 0.8520\n",
      "Regression line: y = 98.2603 + -5.8151x\n"
     ]
    },
    {
     "data": {
      "image/png": "[encoded data removed]",
      "text/plain": [
       "<Figure size 640x480 with 1 Axes>"
      ]
     },
     "metadata": {},
     "output_type": "display_data"
    }
   ],
   "source": [
    "sl.linear_regression(waktu, nilai)"
   ]
  }
 ],
 "metadata": {
  "kernelspec": {
   "display_name": "Python 3",
   "language": "python",
   "name": "python3"
  },
  "language_info": {
   "codemirror_mode": {
    "name": "ipython",
    "version": 3
   },
   "file_extension": ".py",
   "mimetype": "text/x-python",
   "name": "python",
   "nbconvert_exporter": "python",
   "pygments_lexer": "ipython3",
   "version": "3.12.1"
  }
 },
 "nbformat": 4,
 "nbformat_minor": 2
}
